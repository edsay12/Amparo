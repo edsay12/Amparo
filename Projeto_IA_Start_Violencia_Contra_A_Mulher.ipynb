{
  "cells": [
    {
      "cell_type": "markdown",
      "metadata": {
        "id": "1NILBHtkDzjC"
      },
      "source": [
        "# Projeto: Predição de Violência com Machine Learning"
      ]
    },
    {
      "cell_type": "markdown",
      "metadata": {
        "id": "c_zChZG1D4mb"
      },
      "source": [
        "**Objetivo**\n",
        "\n",
        "Este projeto visa prever o tipo de violência (física ou psicológica) com base em registros de ocorrências, visando auxiliar na prevenção e promover a ação de políticas públicas."
      ]
    },
    {
      "cell_type": "markdown",
      "metadata": {
        "id": "42HjNS_MEa56"
      },
      "source": [
        "Dados Utilizados\n",
        "- Fonte: Banco de dados Sinan\n",
        "- Registros: 564.432 entradas\n",
        "- Colunas: {\n",
        "  ANO,\n",
        "  NU_IDADE_N,\n",
        "  CS_RACA ,\n",
        "  CS_ESCOL_N,\n",
        "  UF: PE,\n",
        "  LOCAL_OCOR,\n",
        "  TIPO_RELACAO,\n",
        "  AUTOR_SEXO,\n",
        "  OUT_VEZES\n",
        "}\n"
      ]
    },
    {
      "cell_type": "markdown",
      "metadata": {
        "id": "QDCdZBOfm60W"
      },
      "source": [
        "# Pre Processamento dos dados\n",
        "\n",
        "\n"
      ]
    },
    {
      "cell_type": "markdown",
      "metadata": {
        "id": "Jk1jrfA_dr7b"
      },
      "source": [
        "\n",
        "Nessa etapa foi feita a:\n",
        "\n",
        "- importaçao dos dados\n",
        "\n",
        "- Remoção de colunas irrelevantes para o modelo.\n",
        "\n",
        "- Preenchimento de valores nulos com a mediana e moda.\n",
        "\n",
        "- Conversão de variáveis.\n",
        "\n",
        "- Aplicação do OneHotEncoder e LabelEncoded."
      ]
    },
    {
      "cell_type": "code",
      "execution_count": null,
      "metadata": {
        "colab": {
          "base_uri": "https://localhost:8080/"
        },
        "id": "HNmcybN60MVr",
        "outputId": "dbb6d324-fb9c-4622-ebae-2611e82a3ea0"
      },
      "outputs": [
        {
          "output_type": "execute_result",
          "data": {
            "text/plain": [
              "(1063056, 161)"
            ]
          },
          "metadata": {},
          "execution_count": 1
        }
      ],
      "source": [
        "import numpy as np\n",
        "import pandas as pd\n",
        "import seaborn as sns\n",
        "import matplotlib.pyplot as plt\n",
        "import plotly.express as px\n",
        "\n",
        "# importando a base e verificando o numero de dados inicias\n",
        "df_dados_violencia = pd.read_csv(\"/content/SINAN-VIOL-2017-2019.csv\", low_memory=False)\n",
        "df_dados_violencia.shape\n"
      ]
    },
    {
      "cell_type": "markdown",
      "metadata": {
        "id": "11NH3z9W_-6J"
      },
      "source": [
        "### Seleção das Colunas Relevantes e remoçao da irrelevantes\n",
        "\n",
        "A base de dados contém aproximadamente 161 colunas. Após uma análise exploratória, identificamos que apenas uma parte dessas variáveis é realmente relevante para o contexto da violência contra a mulher. Sendo assim, optamos por manter apenas as colunas que apresentam relação direta com o problema  estudado, descartando atributos irrelevantes."
      ]
    },
    {
      "cell_type": "code",
      "execution_count": null,
      "metadata": {
        "colab": {
          "base_uri": "https://localhost:8080/"
        },
        "id": "qxkhyrxP0wCL",
        "outputId": "5766e3a4-5574-478c-d587-dc0582a8bfe9"
      },
      "outputs": [
        {
          "output_type": "stream",
          "name": "stderr",
          "text": [
            "<ipython-input-2-7033b7e05e33>:10: SettingWithCopyWarning: \n",
            "A value is trying to be set on a copy of a slice from a DataFrame\n",
            "\n",
            "See the caveats in the documentation: https://pandas.pydata.org/pandas-docs/stable/user_guide/indexing.html#returning-a-view-versus-a-copy\n",
            "  df_dados_violencia.rename(columns = {'level_0': 'UF', 'level_1': 'ANO'}, inplace = True)\n"
          ]
        }
      ],
      "source": [
        "# pegando as colunas mias relevantes\n",
        "df_dados_violencia = df_dados_violencia[['level_0', 'level_1','DT_NOTIFIC','DT_OCOR', 'DT_NASC', 'NU_IDADE_N', 'CS_SEXO',\n",
        "                                         'CS_RACA', 'CS_ESCOL_N', 'LOCAL_OCOR', 'LES_AUTOP', 'VIOL_FISIC', 'VIOL_PSICO',\n",
        "                                         'VIOL_TORT', 'VIOL_SEXU', 'SEX_ASSEDI', 'SEX_ESTUPR', 'SEX_EXPLO', 'SEX_PORNO',\n",
        "                                         'SEX_OUTRO', 'REL_PAI', 'REL_MAE', 'REL_PAD', 'REL_MAD', 'REL_CONJ', 'REL_EXCON',\n",
        "                                         'REL_NAMO', 'REL_EXNAM', 'REL_FILHO', 'REL_IRMAO', 'REL_CONHEC', 'REL_DESCO',\n",
        "                                         'AUTOR_SEXO', 'OUT_VEZES']]\n",
        "\n",
        "# Renomenando as coluans leevel_0 para UF e level_1 para ANO\n",
        "df_dados_violencia.rename(columns = {'level_0': 'UF', 'level_1': 'ANO'}, inplace = True)"
      ]
    },
    {
      "cell_type": "markdown",
      "metadata": {
        "id": "1I450Bf6_9wR"
      },
      "source": [
        "A base de dados original contempla diversos casos de violência. No entanto, como o objetivo deste projeto é identificar especificamente os tipos de violência física e/ou psicológica sofridas por mulheres, foi necessário realizar um filtro nos dados para considerar apenas os registros que atendem a esses critérios."
      ]
    },
    {
      "cell_type": "code",
      "execution_count": null,
      "metadata": {
        "colab": {
          "base_uri": "https://localhost:8080/"
        },
        "id": "ZuCvz4KR06LD",
        "outputId": "eac22eb0-d1a8-4787-b486-95b6f0ea7277"
      },
      "outputs": [
        {
          "output_type": "stream",
          "name": "stderr",
          "text": [
            "<ipython-input-3-8ab9f2b72779>:3: SettingWithCopyWarning: \n",
            "A value is trying to be set on a copy of a slice from a DataFrame\n",
            "\n",
            "See the caveats in the documentation: https://pandas.pydata.org/pandas-docs/stable/user_guide/indexing.html#returning-a-view-versus-a-copy\n",
            "  df_dados_violencia.drop(['CS_SEXO', 'LES_AUTOP', 'DT_NOTIFIC'], axis = 1, inplace = True) # removendo algumas colunas irrelevantes\n"
          ]
        }
      ],
      "source": [
        "df_dados_violencia = df_dados_violencia[df_dados_violencia['CS_SEXO']=='F'] # Pegando apenas os registros de mulheres\n",
        "df_dados_violencia = df_dados_violencia[df_dados_violencia['LES_AUTOP']!=1]\n",
        "df_dados_violencia.drop(['CS_SEXO', 'LES_AUTOP', 'DT_NOTIFIC'], axis = 1, inplace = True) # removendo algumas colunas irrelevantes\n",
        "df_dados_violencia.dropna(subset=['DT_OCOR'], inplace = True) # Remove os registros sem data de ocorrencia\n",
        "\n",
        "\n",
        "# Conversão de tipos\n",
        "df_dados_violencia['UF'] = df_dados_violencia['UF'].astype('category')\n",
        "df_dados_violencia['ANO'] = df_dados_violencia['ANO'].astype('category')\n",
        "df_dados_violencia['REL_PAI'] = pd.to_numeric(df_dados_violencia['REL_PAI'], errors='coerce')\n",
        "df_dados_violencia['DT_NASC'] = pd.to_datetime(df_dados_violencia['DT_NASC'])\n",
        "df_dados_violencia['DT_OCOR'] = pd.to_datetime(df_dados_violencia['DT_OCOR'])"
      ]
    },
    {
      "cell_type": "code",
      "execution_count": null,
      "metadata": {
        "colab": {
          "base_uri": "https://localhost:8080/"
        },
        "id": "5wu2OtgG1JIz",
        "outputId": "cd0e2477-90ab-4965-b133-09cbdfc92e61"
      },
      "outputs": [
        {
          "output_type": "stream",
          "name": "stdout",
          "text": [
            "Há 153 registros sem idade e sem a data de nascimento.\n"
          ]
        }
      ],
      "source": [
        "# Registros sem idade e sem data de nasc.\n",
        "sidade_snasc = df_dados_violencia[df_dados_violencia['NU_IDADE_N'].isna() & df_dados_violencia['DT_NASC'].isna()]\n",
        "\n",
        "print(f'Há {len(sidade_snasc)} registros sem idade e sem a data de nascimento.')"
      ]
    },
    {
      "cell_type": "code",
      "execution_count": null,
      "metadata": {
        "id": "IW2Nh1tR1hXz"
      },
      "outputs": [],
      "source": [
        "# Excluir os registros sem idade e sem data de nascimento\n",
        "df_dados_violencia = df_dados_violencia[(df_dados_violencia['NU_IDADE_N'].notnull() |\n",
        "                                         df_dados_violencia['DT_NASC'].notnull())]"
      ]
    },
    {
      "cell_type": "markdown",
      "metadata": {
        "id": "FRq7-j_lXmyh"
      },
      "source": [
        "### Padronizaçao da Idade"
      ]
    },
    {
      "cell_type": "markdown",
      "metadata": {
        "id": "datX8uXEDq3L"
      },
      "source": [
        "De acordo com o dicionário de dados do SINAN (Sistema de Informação de Agravos de Notificação), a variável que representa a idade segue uma codificação específica:\n",
        "\n",
        "O primeiro dígito indica a unidade de tempo:\n",
        "\n",
        "1 → horas\n",
        "\n",
        "2 → dias\n",
        "\n",
        "3 → meses\n",
        "\n",
        "4 → anos\n",
        "\n",
        "Os dois últimos dígitos representam a quantidade.\n",
        "Por exemplo:\n",
        "\n",
        "3009 → 9 meses\n",
        "\n",
        "4018 → 18 anos\n",
        "\n",
        "com isso para padronizar esse dado vamos coloca-lo em anos.\n"
      ]
    },
    {
      "cell_type": "code",
      "execution_count": null,
      "metadata": {
        "colab": {
          "base_uri": "https://localhost:8080/"
        },
        "id": "zoizIvhn1x1K",
        "outputId": "89ad3982-2144-487e-ec30-aebd043c1d1b"
      },
      "outputs": [
        {
          "output_type": "execute_result",
          "data": {
            "text/plain": [
              "np.int64(0)"
            ]
          },
          "metadata": {},
          "execution_count": 6
        }
      ],
      "source": [
        "# Colocar idade em anos\n",
        "def calcula_idade(idade, nasc, ocor):\n",
        "    if idade != idade: # Retorna True caso idade = nan\n",
        "        return ocor.year - nasc.year - ((ocor.month, ocor.day) < (nasc.month, nasc.day))\n",
        "    elif (idade > 4000):\n",
        "        return idade - 4000\n",
        "    elif (idade > 3000):\n",
        "        return (idade - 3000)/12\n",
        "    elif (idade > 1000):\n",
        "        return 0\n",
        "    else:\n",
        "        return idade\n",
        "\n",
        "df_dados_violencia['NU_IDADE_N'] = df_dados_violencia.apply(lambda row: calcula_idade(row['NU_IDADE_N'],\n",
        "                                                                                      row['DT_NASC'],\n",
        "                                                                                      row['DT_OCOR']), axis=1)\n",
        "\n",
        "df_dados_violencia['NU_IDADE_N'].isnull().sum()"
      ]
    },
    {
      "cell_type": "markdown",
      "metadata": {
        "id": "gEPiOQF3GjRr"
      },
      "source": [
        "### Mapeamento de colunas\n",
        "\n",
        "Foi feito o  mapeamento de algumas colunas para deixar os dados mais interpretaveis e posteriormente facilitar o seu uso."
      ]
    },
    {
      "cell_type": "code",
      "execution_count": null,
      "metadata": {
        "colab": {
          "base_uri": "https://localhost:8080/"
        },
        "id": "LJktCpWc2IJp",
        "outputId": "7a4c1155-4fe4-4892-efc0-039c0ab10669"
      },
      "outputs": [
        {
          "output_type": "execute_result",
          "data": {
            "text/plain": [
              "CS_RACA\n",
              "Parda       235939\n",
              "Branca      216549\n",
              "Ignorado     50694\n",
              "Preta        49199\n",
              "Indígena      5129\n",
              "Amarela       4138\n",
              "Name: count, dtype: int64"
            ],
            "text/html": [
              "<div>\n",
              "<style scoped>\n",
              "    .dataframe tbody tr th:only-of-type {\n",
              "        vertical-align: middle;\n",
              "    }\n",
              "\n",
              "    .dataframe tbody tr th {\n",
              "        vertical-align: top;\n",
              "    }\n",
              "\n",
              "    .dataframe thead th {\n",
              "        text-align: right;\n",
              "    }\n",
              "</style>\n",
              "<table border=\"1\" class=\"dataframe\">\n",
              "  <thead>\n",
              "    <tr style=\"text-align: right;\">\n",
              "      <th></th>\n",
              "      <th>count</th>\n",
              "    </tr>\n",
              "    <tr>\n",
              "      <th>CS_RACA</th>\n",
              "      <th></th>\n",
              "    </tr>\n",
              "  </thead>\n",
              "  <tbody>\n",
              "    <tr>\n",
              "      <th>Parda</th>\n",
              "      <td>235939</td>\n",
              "    </tr>\n",
              "    <tr>\n",
              "      <th>Branca</th>\n",
              "      <td>216549</td>\n",
              "    </tr>\n",
              "    <tr>\n",
              "      <th>Ignorado</th>\n",
              "      <td>50694</td>\n",
              "    </tr>\n",
              "    <tr>\n",
              "      <th>Preta</th>\n",
              "      <td>49199</td>\n",
              "    </tr>\n",
              "    <tr>\n",
              "      <th>Indígena</th>\n",
              "      <td>5129</td>\n",
              "    </tr>\n",
              "    <tr>\n",
              "      <th>Amarela</th>\n",
              "      <td>4138</td>\n",
              "    </tr>\n",
              "  </tbody>\n",
              "</table>\n",
              "</div><br><label><b>dtype:</b> int64</label>"
            ]
          },
          "metadata": {},
          "execution_count": 7
        }
      ],
      "source": [
        "df_dados_violencia['CS_RACA'] = df_dados_violencia['CS_RACA'].astype('category')\n",
        "\n",
        "mapping = {1 : 'Branca',\n",
        "           2 : 'Preta',\n",
        "           3 : 'Amarela',\n",
        "           4 : 'Parda',\n",
        "           5 : 'Indígena',\n",
        "           9 : 'Ignorado'}\n",
        "\n",
        "df_dados_violencia['CS_RACA'] = df_dados_violencia['CS_RACA'].map(mapping)\n",
        "df_dados_violencia['CS_RACA'].value_counts()"
      ]
    },
    {
      "cell_type": "code",
      "execution_count": null,
      "metadata": {
        "colab": {
          "base_uri": "https://localhost:8080/"
        },
        "id": "EwM1wLx92SOY",
        "outputId": "757e8758-298d-420f-ad52-4304a9b7592b"
      },
      "outputs": [
        {
          "output_type": "execute_result",
          "data": {
            "text/plain": [
              "CS_ESCOL_N\n",
              "Ignorado ou em branco             143307\n",
              "5ª à 8ª série incompleta do EF     79793\n",
              "Ensino médio completo              76710\n",
              "Não se aplica                      62734\n",
              "Ensino médio incompleto            49236\n",
              "Ensino fundamental completo        36081\n",
              "1ª a 4ª série incompleta do EF     35681\n",
              "4ª série completa do EF            18183\n",
              "Educação superior completa         15610\n",
              "Educação superior incompleta       14146\n",
              "Não alfabetizada                    6267\n",
              "Name: count, dtype: int64"
            ],
            "text/html": [
              "<div>\n",
              "<style scoped>\n",
              "    .dataframe tbody tr th:only-of-type {\n",
              "        vertical-align: middle;\n",
              "    }\n",
              "\n",
              "    .dataframe tbody tr th {\n",
              "        vertical-align: top;\n",
              "    }\n",
              "\n",
              "    .dataframe thead th {\n",
              "        text-align: right;\n",
              "    }\n",
              "</style>\n",
              "<table border=\"1\" class=\"dataframe\">\n",
              "  <thead>\n",
              "    <tr style=\"text-align: right;\">\n",
              "      <th></th>\n",
              "      <th>count</th>\n",
              "    </tr>\n",
              "    <tr>\n",
              "      <th>CS_ESCOL_N</th>\n",
              "      <th></th>\n",
              "    </tr>\n",
              "  </thead>\n",
              "  <tbody>\n",
              "    <tr>\n",
              "      <th>Ignorado ou em branco</th>\n",
              "      <td>143307</td>\n",
              "    </tr>\n",
              "    <tr>\n",
              "      <th>5ª à 8ª série incompleta do EF</th>\n",
              "      <td>79793</td>\n",
              "    </tr>\n",
              "    <tr>\n",
              "      <th>Ensino médio completo</th>\n",
              "      <td>76710</td>\n",
              "    </tr>\n",
              "    <tr>\n",
              "      <th>Não se aplica</th>\n",
              "      <td>62734</td>\n",
              "    </tr>\n",
              "    <tr>\n",
              "      <th>Ensino médio incompleto</th>\n",
              "      <td>49236</td>\n",
              "    </tr>\n",
              "    <tr>\n",
              "      <th>Ensino fundamental completo</th>\n",
              "      <td>36081</td>\n",
              "    </tr>\n",
              "    <tr>\n",
              "      <th>1ª a 4ª série incompleta do EF</th>\n",
              "      <td>35681</td>\n",
              "    </tr>\n",
              "    <tr>\n",
              "      <th>4ª série completa do EF</th>\n",
              "      <td>18183</td>\n",
              "    </tr>\n",
              "    <tr>\n",
              "      <th>Educação superior completa</th>\n",
              "      <td>15610</td>\n",
              "    </tr>\n",
              "    <tr>\n",
              "      <th>Educação superior incompleta</th>\n",
              "      <td>14146</td>\n",
              "    </tr>\n",
              "    <tr>\n",
              "      <th>Não alfabetizada</th>\n",
              "      <td>6267</td>\n",
              "    </tr>\n",
              "  </tbody>\n",
              "</table>\n",
              "</div><br><label><b>dtype:</b> int64</label>"
            ]
          },
          "metadata": {},
          "execution_count": 8
        }
      ],
      "source": [
        "df_dados_violencia['CS_ESCOL_N'] = df_dados_violencia['CS_ESCOL_N'].astype('category')\n",
        "\n",
        "mapping = {0 : 'Não alfabetizada',\n",
        "           1 : '1ª a 4ª série incompleta do EF',\n",
        "           2 : '4ª série completa do EF',\n",
        "           3 : '5ª à 8ª série incompleta do EF',\n",
        "           4 : 'Ensino fundamental completo',\n",
        "           5 : 'Ensino médio incompleto',\n",
        "           6 : 'Ensino médio completo',\n",
        "           7 : 'Educação superior incompleta',\n",
        "           8 : 'Educação superior completa',\n",
        "           9 : 'Ignorado ou em branco',\n",
        "           10 : 'Não se aplica'}\n",
        "\n",
        "df_dados_violencia['CS_ESCOL_N'] = df_dados_violencia['CS_ESCOL_N'].map(mapping)\n",
        "df_dados_violencia['CS_ESCOL_N'].value_counts()"
      ]
    },
    {
      "cell_type": "code",
      "execution_count": null,
      "metadata": {
        "colab": {
          "base_uri": "https://localhost:8080/"
        },
        "id": "lwCoZlJZ2cvN",
        "outputId": "84e430f7-4f0f-4efe-f0ed-34a3eca8af6f"
      },
      "outputs": [
        {
          "output_type": "execute_result",
          "data": {
            "text/plain": [
              "LOCAL_OCOR\n",
              "Residência                    352502\n",
              "Via publica                    75492\n",
              "Outro                          33040\n",
              "Bar ou similar                 11541\n",
              "Comércio/Serviços               9504\n",
              "Escola                          8957\n",
              "Habitação coletiva              4412\n",
              "Local de prática esportiva      1303\n",
              "Industrias/ construção           606\n",
              "Name: count, dtype: int64"
            ],
            "text/html": [
              "<div>\n",
              "<style scoped>\n",
              "    .dataframe tbody tr th:only-of-type {\n",
              "        vertical-align: middle;\n",
              "    }\n",
              "\n",
              "    .dataframe tbody tr th {\n",
              "        vertical-align: top;\n",
              "    }\n",
              "\n",
              "    .dataframe thead th {\n",
              "        text-align: right;\n",
              "    }\n",
              "</style>\n",
              "<table border=\"1\" class=\"dataframe\">\n",
              "  <thead>\n",
              "    <tr style=\"text-align: right;\">\n",
              "      <th></th>\n",
              "      <th>count</th>\n",
              "    </tr>\n",
              "    <tr>\n",
              "      <th>LOCAL_OCOR</th>\n",
              "      <th></th>\n",
              "    </tr>\n",
              "  </thead>\n",
              "  <tbody>\n",
              "    <tr>\n",
              "      <th>Residência</th>\n",
              "      <td>352502</td>\n",
              "    </tr>\n",
              "    <tr>\n",
              "      <th>Via publica</th>\n",
              "      <td>75492</td>\n",
              "    </tr>\n",
              "    <tr>\n",
              "      <th>Outro</th>\n",
              "      <td>33040</td>\n",
              "    </tr>\n",
              "    <tr>\n",
              "      <th>Bar ou similar</th>\n",
              "      <td>11541</td>\n",
              "    </tr>\n",
              "    <tr>\n",
              "      <th>Comércio/Serviços</th>\n",
              "      <td>9504</td>\n",
              "    </tr>\n",
              "    <tr>\n",
              "      <th>Escola</th>\n",
              "      <td>8957</td>\n",
              "    </tr>\n",
              "    <tr>\n",
              "      <th>Habitação coletiva</th>\n",
              "      <td>4412</td>\n",
              "    </tr>\n",
              "    <tr>\n",
              "      <th>Local de prática esportiva</th>\n",
              "      <td>1303</td>\n",
              "    </tr>\n",
              "    <tr>\n",
              "      <th>Industrias/ construção</th>\n",
              "      <td>606</td>\n",
              "    </tr>\n",
              "  </tbody>\n",
              "</table>\n",
              "</div><br><label><b>dtype:</b> int64</label>"
            ]
          },
          "metadata": {},
          "execution_count": 9
        }
      ],
      "source": [
        "df_dados_violencia['LOCAL_OCOR'] = df_dados_violencia['LOCAL_OCOR'].astype('category')\n",
        "\n",
        "mapping = {1 : 'Residência',\n",
        "           2 : 'Habitação coletiva',\n",
        "           3 : 'Escola',\n",
        "           4 : 'Local de prática esportiva',\n",
        "           5 : 'Bar ou similar',\n",
        "           6 : 'Via publica',\n",
        "           7 : 'Comércio/Serviços',\n",
        "           8 : 'Industrias/ construção',\n",
        "           9 : 'Outro'}\n",
        "\n",
        "df_dados_violencia['LOCAL_OCOR'] = df_dados_violencia['LOCAL_OCOR'].map(mapping)\n",
        "df_dados_violencia['LOCAL_OCOR'].value_counts()"
      ]
    },
    {
      "cell_type": "markdown",
      "metadata": {
        "id": "VoK1IkHNYrQz"
      },
      "source": [
        "### Criação de novas colunas"
      ]
    },
    {
      "cell_type": "markdown",
      "metadata": {
        "id": "KupLgiyNJEss"
      },
      "source": [
        "Para facilitar a análise e modelagem dos dados, criamos uma nova coluna chamada TIPO_VIOLENCIA, baseada nas variáveis que indicam os tipos de violência presentes no registro."
      ]
    },
    {
      "cell_type": "code",
      "execution_count": null,
      "metadata": {
        "id": "TIcGrYJH77yx"
      },
      "outputs": [],
      "source": [
        "def categorizar_violencia_simplificada(row):\n",
        "    if row['VIOL_FISIC'] == 1:\n",
        "        return 'física'\n",
        "    elif row['VIOL_PSICO'] == 1:\n",
        "        return 'psicológica'\n",
        "    elif (\n",
        "        row['VIOL_SEXU'] == 1 or row['SEX_ASSEDI'] == 1 or\n",
        "        row['SEX_ESTUPR'] == 1 or row['SEX_EXPLO'] == 1 or\n",
        "        row['SEX_PORNO'] == 1 or row['SEX_OUTRO'] == 1 or\n",
        "        row['VIOL_TORT'] == 1\n",
        "    ):\n",
        "        return 'outros'\n",
        "    else:\n",
        "        return 'nenhuma'\n",
        "\n",
        "df_dados_violencia['TIPO_VIOLENCIA'] = df_dados_violencia.apply(categorizar_violencia_simplificada, axis=1)\n"
      ]
    },
    {
      "cell_type": "markdown",
      "metadata": {
        "id": "XRVYUdh0JTrl"
      },
      "source": [
        "Após a criação da variável TIPO_VIOLENCIA, que resume os diversos tipos de violência em uma única categoria, as colunas originais relacionadas à violência foram removidas por se tornarem redundantes."
      ]
    },
    {
      "cell_type": "code",
      "execution_count": null,
      "metadata": {
        "id": "Mo02TeS-8KKq"
      },
      "outputs": [],
      "source": [
        "#Removendo os campos desnecessários\n",
        "\n",
        "colunas_violencia = [\n",
        "    'VIOL_FISIC', 'VIOL_PSICO', 'VIOL_TORT', 'VIOL_SEXU',\n",
        "    'SEX_ASSEDI', 'SEX_ESTUPR', 'SEX_EXPLO', 'SEX_PORNO', 'SEX_OUTRO'\n",
        "]\n",
        "\n",
        "df_dados_violencia.drop(columns=colunas_violencia, inplace=True)\n"
      ]
    },
    {
      "cell_type": "markdown",
      "metadata": {
        "id": "2YYBaMc-LHIP"
      },
      "source": [
        "Para consolidar as diversas possíveis relações entre a vítima e o agressor, foi criada a variável TIPO_RELACAO. A nova coluna resume as colunas binárias originais em uma única categoria. ( basicamente o mesmo que fizemos na coluna TIPO_VIOLENCIA)"
      ]
    },
    {
      "cell_type": "code",
      "execution_count": null,
      "metadata": {
        "id": "O01RCgx98NIw"
      },
      "outputs": [],
      "source": [
        "def categorizar_relacao(row):\n",
        "    grupos = set()\n",
        "\n",
        "    # Família\n",
        "    if row['REL_PAI'] == 1 or row['REL_MAE'] == 1 or row['REL_PAD'] == 1 or row['REL_MAD'] == 1 or \\\n",
        "       row['REL_FILHO'] == 1 or row['REL_IRMAO'] == 1:\n",
        "        grupos.add('familiar')\n",
        "\n",
        "    # Cônjuge e ex-cônjuge\n",
        "    if row['REL_CONJ'] == 1 or row['REL_EXCON'] == 1:\n",
        "        grupos.add('cônjuge')\n",
        "\n",
        "    # Namorado(a) e ex\n",
        "    if row['REL_NAMO'] == 1 or row['REL_EXNAM'] == 1:\n",
        "        grupos.add('namorado(a)')\n",
        "\n",
        "    # Conhecido\n",
        "    if row['REL_CONHEC'] == 1:\n",
        "        grupos.add('conhecido(a)')\n",
        "\n",
        "    # Desconhecido\n",
        "    if row['REL_DESCO'] == 1:\n",
        "        grupos.add('desconhecido(a)')\n",
        "\n",
        "    if not grupos:\n",
        "        return 'não informado'\n",
        "    elif len(grupos) == 1:\n",
        "        return list(grupos)[0]\n",
        "    else:\n",
        "        return 'múltiplas'\n",
        "\n",
        "df_dados_violencia['TIPO_RELACAO'] = df_dados_violencia.apply(categorizar_relacao, axis=1)\n"
      ]
    },
    {
      "cell_type": "code",
      "execution_count": null,
      "metadata": {
        "id": "kzfLSzn-_W8U"
      },
      "outputs": [],
      "source": [
        "colunas_relacao = [\n",
        "    'REL_PAI', 'REL_MAE', 'REL_PAD', 'REL_MAD',\n",
        "    'REL_CONJ', 'REL_EXCON', 'REL_NAMO', 'REL_EXNAM',\n",
        "    'REL_FILHO', 'REL_IRMAO', 'REL_CONHEC', 'REL_DESCO'\n",
        "]\n",
        "\n",
        "df_dados_violencia.drop(columns=colunas_relacao, inplace=True)\n"
      ]
    },
    {
      "cell_type": "code",
      "execution_count": null,
      "metadata": {
        "id": "-ShGy082og5W"
      },
      "outputs": [],
      "source": [
        "# Convertendo algumas colunas para o tipo 'category'\n",
        "df_dados_violencia['TIPO_VIOLENCIA'] = df_dados_violencia['TIPO_VIOLENCIA'].astype('category')\n",
        "df_dados_violencia['TIPO_RELACAO'] = df_dados_violencia['TIPO_RELACAO'].astype('category')\n",
        "df_dados_violencia['LOCAL_OCOR'] = df_dados_violencia['LOCAL_OCOR'].astype('category')"
      ]
    },
    {
      "cell_type": "markdown",
      "metadata": {
        "id": "2TFVXaUnM7cJ"
      },
      "source": [
        "### Tratamento de valores ausentes\n",
        "\n",
        "Para garantir que os modelos de machine learning funcione corretamente, foi realizado o preenchimento de valores ausentes nas colunas:\n",
        "\n",
        "- Colunas categóricas (`CS_RACA`, `CS_ESCOL_N`, `LOCAL_OCOR`): foram preenchidas com a moda (valor mais frequente), por ser representativa do comportamento majoritário.\n",
        "- Colunas numéricas (`AUTOR_SEXO`, `OUT_VEZES`): preenchidas com a mediana, que fornece um valor central confiável.\n",
        "\n",
        "Após o preenchimento, foi realizada uma checagem para garantir que não restassem valores nulos."
      ]
    },
    {
      "cell_type": "code",
      "execution_count": null,
      "metadata": {
        "colab": {
          "base_uri": "https://localhost:8080/"
        },
        "id": "QQzZYck8Y09T",
        "outputId": "2af53c32-ec3e-401d-82d1-ca6171c1e1d8"
      },
      "outputs": [
        {
          "output_type": "execute_result",
          "data": {
            "text/plain": [
              "UF                    0\n",
              "ANO                   0\n",
              "DT_OCOR               0\n",
              "DT_NASC            8588\n",
              "NU_IDADE_N            0\n",
              "CS_RACA            2784\n",
              "CS_ESCOL_N        26684\n",
              "LOCAL_OCOR        67075\n",
              "AUTOR_SEXO         1445\n",
              "OUT_VEZES          4362\n",
              "TIPO_VIOLENCIA        0\n",
              "TIPO_RELACAO          0\n",
              "dtype: int64"
            ],
            "text/html": [
              "<div>\n",
              "<style scoped>\n",
              "    .dataframe tbody tr th:only-of-type {\n",
              "        vertical-align: middle;\n",
              "    }\n",
              "\n",
              "    .dataframe tbody tr th {\n",
              "        vertical-align: top;\n",
              "    }\n",
              "\n",
              "    .dataframe thead th {\n",
              "        text-align: right;\n",
              "    }\n",
              "</style>\n",
              "<table border=\"1\" class=\"dataframe\">\n",
              "  <thead>\n",
              "    <tr style=\"text-align: right;\">\n",
              "      <th></th>\n",
              "      <th>0</th>\n",
              "    </tr>\n",
              "  </thead>\n",
              "  <tbody>\n",
              "    <tr>\n",
              "      <th>UF</th>\n",
              "      <td>0</td>\n",
              "    </tr>\n",
              "    <tr>\n",
              "      <th>ANO</th>\n",
              "      <td>0</td>\n",
              "    </tr>\n",
              "    <tr>\n",
              "      <th>DT_OCOR</th>\n",
              "      <td>0</td>\n",
              "    </tr>\n",
              "    <tr>\n",
              "      <th>DT_NASC</th>\n",
              "      <td>8588</td>\n",
              "    </tr>\n",
              "    <tr>\n",
              "      <th>NU_IDADE_N</th>\n",
              "      <td>0</td>\n",
              "    </tr>\n",
              "    <tr>\n",
              "      <th>CS_RACA</th>\n",
              "      <td>2784</td>\n",
              "    </tr>\n",
              "    <tr>\n",
              "      <th>CS_ESCOL_N</th>\n",
              "      <td>26684</td>\n",
              "    </tr>\n",
              "    <tr>\n",
              "      <th>LOCAL_OCOR</th>\n",
              "      <td>67075</td>\n",
              "    </tr>\n",
              "    <tr>\n",
              "      <th>AUTOR_SEXO</th>\n",
              "      <td>1445</td>\n",
              "    </tr>\n",
              "    <tr>\n",
              "      <th>OUT_VEZES</th>\n",
              "      <td>4362</td>\n",
              "    </tr>\n",
              "    <tr>\n",
              "      <th>TIPO_VIOLENCIA</th>\n",
              "      <td>0</td>\n",
              "    </tr>\n",
              "    <tr>\n",
              "      <th>TIPO_RELACAO</th>\n",
              "      <td>0</td>\n",
              "    </tr>\n",
              "  </tbody>\n",
              "</table>\n",
              "</div><br><label><b>dtype:</b> int64</label>"
            ]
          },
          "metadata": {},
          "execution_count": 15
        }
      ],
      "source": [
        "# Verificando quais colunas estao sem dados\n",
        "df_dados_violencia.isnull().sum()"
      ]
    },
    {
      "cell_type": "code",
      "execution_count": null,
      "metadata": {
        "colab": {
          "base_uri": "https://localhost:8080/"
        },
        "id": "zMfoFGzusr6b",
        "outputId": "a63352e0-cf8d-49bf-a7a5-735c958666dc"
      },
      "outputs": [
        {
          "output_type": "stream",
          "name": "stdout",
          "text": [
            "UF                   0\n",
            "ANO                  0\n",
            "DT_OCOR              0\n",
            "DT_NASC           8588\n",
            "NU_IDADE_N           0\n",
            "CS_RACA              0\n",
            "CS_ESCOL_N           0\n",
            "LOCAL_OCOR           0\n",
            "AUTOR_SEXO           0\n",
            "OUT_VEZES            0\n",
            "TIPO_VIOLENCIA       0\n",
            "TIPO_RELACAO         0\n",
            "dtype: int64\n"
          ]
        },
        {
          "output_type": "stream",
          "name": "stderr",
          "text": [
            "<ipython-input-16-be2e1c1b9795>:5: FutureWarning: A value is trying to be set on a copy of a DataFrame or Series through chained assignment using an inplace method.\n",
            "The behavior will change in pandas 3.0. This inplace method will never work because the intermediate object on which we are setting values always behaves as a copy.\n",
            "\n",
            "For example, when doing 'df[col].method(value, inplace=True)', try using 'df.method({col: value}, inplace=True)' or df[col] = df[col].method(value) instead, to perform the operation inplace on the original object.\n",
            "\n",
            "\n",
            "  df_dados_violencia[coluna].fillna(moda, inplace=True)\n",
            "<ipython-input-16-be2e1c1b9795>:11: FutureWarning: A value is trying to be set on a copy of a DataFrame or Series through chained assignment using an inplace method.\n",
            "The behavior will change in pandas 3.0. This inplace method will never work because the intermediate object on which we are setting values always behaves as a copy.\n",
            "\n",
            "For example, when doing 'df[col].method(value, inplace=True)', try using 'df.method({col: value}, inplace=True)' or df[col] = df[col].method(value) instead, to perform the operation inplace on the original object.\n",
            "\n",
            "\n",
            "  df_dados_violencia[coluna].fillna(mediana, inplace=True)\n"
          ]
        }
      ],
      "source": [
        "# Preenchendo colunas categóricas com a moda\n",
        "colunas_moda = [\"CS_RACA\", \"CS_ESCOL_N\", \"LOCAL_OCOR\"]\n",
        "for coluna in colunas_moda:\n",
        "    moda = df_dados_violencia[coluna].mode()[0]\n",
        "    df_dados_violencia[coluna].fillna(moda, inplace=True)\n",
        "\n",
        "# Preenchendo colunas numéricas com a mediana\n",
        "colunas_mediana = [\"AUTOR_SEXO\", \"OUT_VEZES\"]\n",
        "for coluna in colunas_mediana:\n",
        "    mediana = df_dados_violencia[coluna].median()\n",
        "    df_dados_violencia[coluna].fillna(mediana, inplace=True)\n",
        "\n",
        "# Conferindo resultado\n",
        "print(df_dados_violencia.isnull().sum())\n"
      ]
    },
    {
      "cell_type": "markdown",
      "metadata": {
        "id": "3TVYEkDsOQh3"
      },
      "source": [
        "A coluna DT_NASC, responsável por armazenar a data de nascimento da vítima, apresentava uma grande quantidade de valores ausentes. Como a variável NU_IDADE_N já fornece a idade da vítima de forma consolidada, a DT_NASC foi considerada redundante e pouco informativa para os objetivos da análise. Por esse motivo, optou-se pela sua remoção."
      ]
    },
    {
      "cell_type": "code",
      "execution_count": null,
      "metadata": {
        "id": "iTOy9b3JuhZz"
      },
      "outputs": [],
      "source": [
        "df_dados_violencia.drop(columns=['DT_NASC'], inplace=True)"
      ]
    },
    {
      "cell_type": "code",
      "execution_count": null,
      "metadata": {
        "colab": {
          "base_uri": "https://localhost:8080/"
        },
        "id": "3BUEuAxPu_bM",
        "outputId": "b284ec49-e3cb-4dfe-fa10-2ed49f956977"
      },
      "outputs": [
        {
          "output_type": "execute_result",
          "data": {
            "text/plain": [
              "UF                0\n",
              "ANO               0\n",
              "DT_OCOR           0\n",
              "NU_IDADE_N        0\n",
              "CS_RACA           0\n",
              "CS_ESCOL_N        0\n",
              "LOCAL_OCOR        0\n",
              "AUTOR_SEXO        0\n",
              "OUT_VEZES         0\n",
              "TIPO_VIOLENCIA    0\n",
              "TIPO_RELACAO      0\n",
              "dtype: int64"
            ],
            "text/html": [
              "<div>\n",
              "<style scoped>\n",
              "    .dataframe tbody tr th:only-of-type {\n",
              "        vertical-align: middle;\n",
              "    }\n",
              "\n",
              "    .dataframe tbody tr th {\n",
              "        vertical-align: top;\n",
              "    }\n",
              "\n",
              "    .dataframe thead th {\n",
              "        text-align: right;\n",
              "    }\n",
              "</style>\n",
              "<table border=\"1\" class=\"dataframe\">\n",
              "  <thead>\n",
              "    <tr style=\"text-align: right;\">\n",
              "      <th></th>\n",
              "      <th>0</th>\n",
              "    </tr>\n",
              "  </thead>\n",
              "  <tbody>\n",
              "    <tr>\n",
              "      <th>UF</th>\n",
              "      <td>0</td>\n",
              "    </tr>\n",
              "    <tr>\n",
              "      <th>ANO</th>\n",
              "      <td>0</td>\n",
              "    </tr>\n",
              "    <tr>\n",
              "      <th>DT_OCOR</th>\n",
              "      <td>0</td>\n",
              "    </tr>\n",
              "    <tr>\n",
              "      <th>NU_IDADE_N</th>\n",
              "      <td>0</td>\n",
              "    </tr>\n",
              "    <tr>\n",
              "      <th>CS_RACA</th>\n",
              "      <td>0</td>\n",
              "    </tr>\n",
              "    <tr>\n",
              "      <th>CS_ESCOL_N</th>\n",
              "      <td>0</td>\n",
              "    </tr>\n",
              "    <tr>\n",
              "      <th>LOCAL_OCOR</th>\n",
              "      <td>0</td>\n",
              "    </tr>\n",
              "    <tr>\n",
              "      <th>AUTOR_SEXO</th>\n",
              "      <td>0</td>\n",
              "    </tr>\n",
              "    <tr>\n",
              "      <th>OUT_VEZES</th>\n",
              "      <td>0</td>\n",
              "    </tr>\n",
              "    <tr>\n",
              "      <th>TIPO_VIOLENCIA</th>\n",
              "      <td>0</td>\n",
              "    </tr>\n",
              "    <tr>\n",
              "      <th>TIPO_RELACAO</th>\n",
              "      <td>0</td>\n",
              "    </tr>\n",
              "  </tbody>\n",
              "</table>\n",
              "</div><br><label><b>dtype:</b> int64</label>"
            ]
          },
          "metadata": {},
          "execution_count": 18
        }
      ],
      "source": [
        "\n",
        "df_dados_violencia.isnull().sum()"
      ]
    },
    {
      "cell_type": "markdown",
      "metadata": {
        "id": "zfIBDVxiOjt2"
      },
      "source": [
        " coluna DT_OCOR, foi analisada e posteriormente removida. A decisão foi baseada nos seguintes fatores:\n",
        "\n",
        "- Ausência significativa de dados nessa coluna em grande parte dos registros.\n",
        "- Baixa relevância para os objetivos da modelagem.\n",
        "- Simplificação do conjunto de dados para melhorar desempenho e interpretabilidade.\n"
      ]
    },
    {
      "cell_type": "code",
      "execution_count": null,
      "metadata": {
        "id": "y1fJttzIx8oB"
      },
      "outputs": [],
      "source": [
        "\n",
        "df_dados_violencia['DT_OCOR'].head()\n",
        "df_dados_violencia.drop(columns=['DT_OCOR'], inplace=True)"
      ]
    },
    {
      "cell_type": "markdown",
      "metadata": {
        "id": "yEGMFl5yO43n"
      },
      "source": [
        "### Preparação dos Dados para Treinamento\n",
        "\n",
        "Antes de treinar o modelo, realizamos as seguintes etapas:\n",
        "\n",
        "1. **Separação da variável alvo (`TIPO_VIOLENCIA`)** dos preditores.\n",
        "2. **Codificação de variáveis**:\n",
        "   - `ANO`: codificado com `LabelEncoder`, convertendo valores categóricos para inteiros.\n",
        "   - Variáveis categóricas nominais (UF, CS_RACA, CS_ESCOL_N, LOCAL_OCOR, TIPO_RELACAO) foram convertidas para variáveis binárias via OneHotEncoder.\n",
        "\n",
        "3. **Divisão em conjuntos de treino e teste**:\n",
        "   - 70% dos dados para treino e 30% para teste.\n",
        "   - Uso do parâmetro `stratify=y` para manter a mesma proporção de classes nos dois conjuntos."
      ]
    },
    {
      "cell_type": "code",
      "execution_count": null,
      "metadata": {
        "id": "AbJdx_680XTT"
      },
      "outputs": [],
      "source": [
        "import pandas as pd\n",
        "from sklearn.preprocessing import LabelEncoder\n",
        "from sklearn.model_selection import train_test_split\n",
        "\n",
        "\n",
        "# 1. Cópia de segurança dos dados\n",
        "df = df_dados_violencia.copy()\n",
        "\n",
        "# 2. Separar variável alvo (antes de aplicar qualquer transformação)\n",
        "y = df['TIPO_VIOLENCIA']\n",
        "X = df.drop(columns=['TIPO_VIOLENCIA'])\n",
        "\n",
        "le = LabelEncoder()\n",
        "X['ANO'] = le.fit_transform(X['ANO'])\n",
        "\n",
        "# Lista de colunas para OneHotEncoder\n",
        "colunas_onehot = [\n",
        "    'UF',\n",
        "    'CS_RACA',\n",
        "    'CS_ESCOL_N',\n",
        "    'LOCAL_OCOR',\n",
        "    'TIPO_RELACAO'\n",
        "]\n",
        "\n",
        "\n",
        "# OneHot Encoding no resto das colulas\n",
        "X = pd.get_dummies(X, columns=colunas_onehot, drop_first=True)\n",
        "\n",
        "\n",
        "# Divisão em treino e teste\n",
        "X_train, X_test, y_train, y_test = train_test_split(\n",
        "    X, y, test_size=0.3, random_state=1000, stratify=y\n",
        ")\n"
      ]
    },
    {
      "cell_type": "markdown",
      "metadata": {
        "id": "GdfTB2Rdzy8a"
      },
      "source": [
        "\n",
        "# Treinamento do modelo\n",
        "\n",
        "\n",
        "\n"
      ]
    },
    {
      "cell_type": "markdown",
      "metadata": {
        "id": "JnAqmIbAEZlF"
      },
      "source": [
        "Após o pré-processamento dos dados, partimos para a etapa de treinamento dos modelos de machine learning. Nessa fase, o objetivo é encontrar o algoritimo que melhor consegue prever o tipo de violência sofrida com base nas informações presentes na base de dados.\n",
        "\n",
        "aqui foram ultilizados algoritimos como:\n",
        "\n",
        "- Random Forest\n",
        "\n",
        "- Arvore de Decisao\n",
        "\n",
        "- Rede Neural\n",
        "\n",
        "- LightGBM\n",
        "\n",
        "- XGBoost"
      ]
    },
    {
      "cell_type": "markdown",
      "metadata": {
        "id": "FUtIG-kv8VZa"
      },
      "source": [
        "## Algoritmos de aprendizagem\n",
        "\n",
        "---\n",
        "\n"
      ]
    },
    {
      "cell_type": "markdown",
      "metadata": {
        "id": "5Swy_yDgFbu1"
      },
      "source": [
        "O Primeiro algoritimo ultilizado foi o Random Forest"
      ]
    },
    {
      "cell_type": "code",
      "execution_count": null,
      "metadata": {
        "id": "MWyzRd-mHfzt"
      },
      "outputs": [],
      "source": [
        "# imports\n",
        "\n",
        "from sklearn.ensemble import RandomForestClassifier\n",
        "from sklearn.tree import DecisionTreeClassifier\n",
        "from sklearn.neural_network import MLPClassifier\n",
        "from sklearn.metrics import classification_report,accuracy_score\n",
        "from yellowbrick.classifier import ConfusionMatrix\n",
        "import seaborn as sns\n",
        "import lightgbm as lgb\n",
        "\n"
      ]
    },
    {
      "cell_type": "code",
      "execution_count": null,
      "metadata": {
        "colab": {
          "base_uri": "https://localhost:8080/"
        },
        "id": "1CyZJLXAwiVN",
        "outputId": "99ad36f5-34b6-499c-eddb-cf33cbe9908c"
      },
      "outputs": [
        {
          "name": "stdout",
          "output_type": "stream",
          "text": [
            "Relatório de Classificação:\n",
            "\n"
          ]
        },
        {
          "name": "stderr",
          "output_type": "stream",
          "text": [
            "/usr/local/lib/python3.11/dist-packages/sklearn/metrics/_classification.py:1565: UndefinedMetricWarning: Precision is ill-defined and being set to 0.0 in labels with no predicted samples. Use `zero_division` parameter to control this behavior.\n",
            "  _warn_prf(average, modifier, f\"{metric.capitalize()} is\", len(result))\n",
            "/usr/local/lib/python3.11/dist-packages/sklearn/metrics/_classification.py:1565: UndefinedMetricWarning: Precision is ill-defined and being set to 0.0 in labels with no predicted samples. Use `zero_division` parameter to control this behavior.\n",
            "  _warn_prf(average, modifier, f\"{metric.capitalize()} is\", len(result))\n"
          ]
        },
        {
          "name": "stdout",
          "output_type": "stream",
          "text": [
            "              precision    recall  f1-score   support\n",
            "\n",
            "      física       0.79      0.95      0.87    115303\n",
            "     nenhuma       0.79      0.64      0.71     17859\n",
            "      outros       0.65      0.50      0.57     21011\n",
            " psicológica       0.00      0.00      0.00     15157\n",
            "\n",
            "    accuracy                           0.78    169330\n",
            "   macro avg       0.56      0.52      0.54    169330\n",
            "weighted avg       0.70      0.78      0.74    169330\n",
            "\n"
          ]
        },
        {
          "name": "stderr",
          "output_type": "stream",
          "text": [
            "/usr/local/lib/python3.11/dist-packages/sklearn/metrics/_classification.py:1565: UndefinedMetricWarning: Precision is ill-defined and being set to 0.0 in labels with no predicted samples. Use `zero_division` parameter to control this behavior.\n",
            "  _warn_prf(average, modifier, f\"{metric.capitalize()} is\", len(result))\n"
          ]
        }
      ],
      "source": [
        "# Criando o modelo\n",
        "modelo = RandomForestClassifier(\n",
        "        max_depth=10, # numero de amostras minimas para dividir um no.\n",
        "        min_samples_split=5, # define o numero minimo de amostras pra dividir um no.\n",
        "        n_estimators=100, # numero de arvores da floresta\n",
        "        random_state=42) # garente que os resultados sejam reprodutiveis\n",
        "#Realizando o treinamento\n",
        "modelo.fit(X_train, y_train)\n",
        "\n",
        "# faz as previsoes com base nos dados de teste\n",
        "y_pred = modelo.predict(X_test)\n",
        "\n",
        "# impressao do relatorio com as metricas de avaliaçao.\n",
        "print(\"Relatório de Classificação:\\n\")\n",
        "print(classification_report(y_test, y_pred))\n"
      ]
    },
    {
      "cell_type": "markdown",
      "metadata": {
        "id": "W_V38jD_F7Zt"
      },
      "source": [
        "O primeiro modelo testado teve um ótimo desempenho na classe física, porém um desempenho nulo na classe psicológica. Com isso, iremos testar outros modelos e tentar identificar o real problema."
      ]
    },
    {
      "cell_type": "code",
      "execution_count": null,
      "metadata": {
        "colab": {
          "base_uri": "https://localhost:8080/"
        },
        "id": "DRj-XJAmKBj-",
        "outputId": "acaa0703-2ace-4f6e-ff5a-7040a5e82a03"
      },
      "outputs": [
        {
          "name": "stderr",
          "output_type": "stream",
          "text": [
            "/usr/local/lib/python3.11/dist-packages/sklearn/metrics/_classification.py:1565: UndefinedMetricWarning: Precision is ill-defined and being set to 0.0 in labels with no predicted samples. Use `zero_division` parameter to control this behavior.\n",
            "  _warn_prf(average, modifier, f\"{metric.capitalize()} is\", len(result))\n",
            "/usr/local/lib/python3.11/dist-packages/sklearn/metrics/_classification.py:1565: UndefinedMetricWarning: Precision is ill-defined and being set to 0.0 in labels with no predicted samples. Use `zero_division` parameter to control this behavior.\n",
            "  _warn_prf(average, modifier, f\"{metric.capitalize()} is\", len(result))\n"
          ]
        },
        {
          "name": "stdout",
          "output_type": "stream",
          "text": [
            "              precision    recall  f1-score   support\n",
            "\n",
            "      física       0.82      0.92      0.86    115303\n",
            "     nenhuma       0.71      0.71      0.71     17859\n",
            "      outros       0.57      0.60      0.58     21011\n",
            " psicológica       0.00      0.00      0.00     15157\n",
            "\n",
            "    accuracy                           0.77    169330\n",
            "   macro avg       0.52      0.56      0.54    169330\n",
            "weighted avg       0.70      0.77      0.74    169330\n",
            "\n"
          ]
        },
        {
          "name": "stderr",
          "output_type": "stream",
          "text": [
            "/usr/local/lib/python3.11/dist-packages/sklearn/metrics/_classification.py:1565: UndefinedMetricWarning: Precision is ill-defined and being set to 0.0 in labels with no predicted samples. Use `zero_division` parameter to control this behavior.\n",
            "  _warn_prf(average, modifier, f\"{metric.capitalize()} is\", len(result))\n"
          ]
        }
      ],
      "source": [
        "# Criando o modelo\n",
        "modelo = DecisionTreeClassifier(criterion='entropy', max_depth=5, random_state=42)\n",
        "\n",
        "# treinamento\n",
        "modelo.fit(X_train, y_train)\n",
        "\n",
        "# faz as previsoes\n",
        "y_pred = modelo.predict(X_test)\n",
        "\n",
        "# impressao do relatorio com as metricas de avaliaçao.\n",
        "print(\"Relatório de Classificação:\\n\")\n",
        "print(classification_report(y_test, y_pred))"
      ]
    },
    {
      "cell_type": "markdown",
      "metadata": {
        "id": "QrFqfh1zLnF1"
      },
      "source": [
        "A árvore de decisão teve o mesmo problema do modelo anterior, não identificando muito bem a classe psicológica."
      ]
    },
    {
      "cell_type": "code",
      "execution_count": null,
      "metadata": {
        "colab": {
          "base_uri": "https://localhost:8080/"
        },
        "id": "OXkYginvWhZA",
        "outputId": "66edf56b-956a-4661-f12b-2da239530f5f"
      },
      "outputs": [
        {
          "name": "stdout",
          "output_type": "stream",
          "text": [
            "[LightGBM] [Warning] Found whitespace in feature_names, replace with underlines\n",
            "[LightGBM] [Info] Auto-choosing row-wise multi-threading, the overhead of testing was 0.055699 seconds.\n",
            "You can set `force_row_wise=true` to remove the overhead.\n",
            "And if memory is not enough, you can set `force_col_wise=true`.\n",
            "[LightGBM] [Info] Total Bins 242\n",
            "[LightGBM] [Info] Number of data points in the train set: 395102, number of used features: 59\n",
            "[LightGBM] [Info] Start training from score -0.384291\n",
            "[LightGBM] [Info] Start training from score -2.249315\n",
            "[LightGBM] [Info] Start training from score -2.086814\n",
            "[LightGBM] [Info] Start training from score -2.413365\n",
            "              precision    recall  f1-score   support\n",
            "\n",
            "      física       0.83      0.93      0.88    115303\n",
            "     nenhuma       0.79      0.76      0.77     17859\n",
            "      outros       0.63      0.64      0.64     21011\n",
            " psicológica       0.54      0.07      0.13     15157\n",
            "\n",
            "    accuracy                           0.80    169330\n",
            "   macro avg       0.70      0.60      0.60    169330\n",
            "weighted avg       0.78      0.80      0.77    169330\n",
            "\n"
          ]
        }
      ],
      "source": [
        "model_lgb = lgb.LGBMClassifier(\n",
        "    objective='multiclass',\n",
        "    random_state=42,\n",
        "    n_estimators=200,\n",
        "    learning_rate=0.1,\n",
        "    num_leaves = 63 ,\n",
        "    scale_pos_weight=3,  # dizendo que a classe e mais importante\n",
        "\n",
        ")\n",
        "model_lgb.fit(X_train, y_train)\n",
        "\n",
        "# 4. Avaliar\n",
        "y_pred = model_lgb.predict(X_test)\n",
        "print(classification_report(y_test, y_pred))"
      ]
    },
    {
      "cell_type": "markdown",
      "metadata": {
        "id": "HRCyEHf4W7oR"
      },
      "source": [
        "O LGBMClassifier foi o que apresentou a maior acurácia até o momento, porém ele ainda não consegue definir muito bem a classe psicológica."
      ]
    },
    {
      "cell_type": "code",
      "execution_count": null,
      "metadata": {
        "colab": {
          "base_uri": "https://localhost:8080/"
        },
        "id": "8oryM4hTMeWs",
        "outputId": "fc220e25-a259-4014-c3ac-130761a48693"
      },
      "outputs": [
        {
          "name": "stderr",
          "output_type": "stream",
          "text": [
            "/usr/local/lib/python3.11/dist-packages/sklearn/neural_network/_multilayer_perceptron.py:691: ConvergenceWarning: Stochastic Optimizer: Maximum iterations (100) reached and the optimization hasn't converged yet.\n",
            "  warnings.warn(\n"
          ]
        },
        {
          "name": "stdout",
          "output_type": "stream",
          "text": [
            "Relatório de Classificação:\n",
            "\n",
            "              precision    recall  f1-score   support\n",
            "\n",
            "      física       0.83      0.92      0.88    115303\n",
            "     nenhuma       0.79      0.74      0.76     17859\n",
            "      outros       0.62      0.64      0.63     21011\n",
            " psicológica       0.47      0.08      0.13     15157\n",
            "\n",
            "    accuracy                           0.79    169330\n",
            "   macro avg       0.68      0.60      0.60    169330\n",
            "weighted avg       0.77      0.79      0.77    169330\n",
            "\n"
          ]
        }
      ],
      "source": [
        "rede_neural_violencia = MLPClassifier( hidden_layer_sizes=(100, 50),\n",
        "        activation='relu',\n",
        "        solver='adam',\n",
        "        max_iter=100,\n",
        "        random_state=42)\n",
        "rede_neural_violencia.fit(X_train, y_train)\n",
        "\n",
        "y_pred = rede_neural_violencia.predict(X_test)\n",
        "\n",
        "# impressao do relatorio com as metricas de avaliaçao.\n",
        "print(\"Relatório de Classificação:\\n\")\n",
        "print(classification_report(y_test, y_pred))"
      ]
    },
    {
      "cell_type": "markdown",
      "metadata": {
        "id": "BBxp4H9fMUcN"
      },
      "source": [
        "Apesar de os modelos apresentarem uma acurácia legal, eles ainda não estão conseguindo identificar muito bem a classe psicológica, o que indica um desbalanceamento muito grande entre as classes. Vamos, inicialmente, analisar a matriz de confusão para ver a quantidade de acertos e erros de cada classe.\""
      ]
    },
    {
      "cell_type": "code",
      "execution_count": null,
      "metadata": {
        "colab": {
          "base_uri": "https://localhost:8080/",
          "height": 627
        },
        "id": "FiaLWDpXTboE",
        "outputId": "965de795-e78b-4e61-ddae-39a6b910d07b"
      },
      "outputs": [
        {
          "name": "stderr",
          "output_type": "stream",
          "text": [
            "/usr/local/lib/python3.11/dist-packages/sklearn/utils/validation.py:2739: UserWarning: X does not have valid feature names, but MLPClassifier was fitted with feature names\n",
            "  warnings.warn(\n"
          ]
        },
        {
          "data": {
            "text/plain": [
              "0.7941357113329003"
            ]
          },
          "execution_count": 26,
          "metadata": {},
          "output_type": "execute_result"
        },
        {
          "data": {
            "image/png": "[encoded data removed]",
            "text/plain": [
              "<Figure size 800x550 with 1 Axes>"
            ]
          },
          "metadata": {},
          "output_type": "display_data"
        }
      ],
      "source": [
        "mc = ConfusionMatrix(rede_neural_violencia) # criando um visualizados de matriz de confusao\n",
        "mc.fit(X_train, y_train) # treinando o modelo com os dados registrados\n",
        "mc.score(X_test, y_test) # mostra as metricas"
      ]
    },
    {
      "cell_type": "markdown",
      "metadata": {
        "id": "y4_6QjXiPwg4"
      },
      "source": [
        "Ao verificar a matriz de confusão, já é possível perceber que, de fato, a classe psicológica possui um número muito pequeno de dados. Vamos verificar isso graficamente."
      ]
    },
    {
      "cell_type": "code",
      "execution_count": null,
      "metadata": {
        "colab": {
          "base_uri": "https://localhost:8080/",
          "height": 523
        },
        "id": "q3d_fnKqQM4m",
        "outputId": "080e02d3-a74f-4404-a0a0-f6e39c8087d9"
      },
      "outputs": [
        {
          "data": {
            "text/plain": [
              "<Axes: xlabel='TIPO_VIOLENCIA', ylabel='count'>"
            ]
          },
          "execution_count": 29,
          "metadata": {},
          "output_type": "execute_result"
        },
        {
          "data": {
            "image/png": "[encoded data removed]",
            "text/plain": [
              "<Figure size 800x550 with 1 Axes>"
            ]
          },
          "metadata": {},
          "output_type": "display_data"
        }
      ],
      "source": [
        "# verificando de forma grafica o desbalanceamento\n",
        "sns.countplot(x='TIPO_VIOLENCIA', data=df)"
      ]
    },
    {
      "cell_type": "markdown",
      "metadata": {
        "id": "ZbdPqAZgVmJg"
      },
      "source": [
        "No gráfico acima, conseguimos identificar que, de fato, as classes possuem um desbalanceamento muito grande. Com isso, vamos aplicar uma técnica de balanceamento de dados chamada SMOTE e depois tentar rodar os modelos novamente."
      ]
    },
    {
      "cell_type": "markdown",
      "metadata": {
        "id": "s94i4RHhXEoQ"
      },
      "source": [
        "## Balanceamento dos dados - (psicologica);\n",
        "\n"
      ]
    },
    {
      "cell_type": "markdown",
      "metadata": {
        "id": "W8Ee6DTrXV9R"
      },
      "source": [
        "Conforme visto anteriormente, a classe psicológica não está sendo bem identificada. Para resolver o problema, vamos implementar o SMOTE para fazer o balanceamento dos dados. O SMOTE será implementado apenas nos dados de treinamento para evitar o problema de vazamento de dados ('data leakage')."
      ]
    },
    {
      "cell_type": "code",
      "execution_count": null,
      "metadata": {
        "id": "n0-rKSkKXKdC"
      },
      "outputs": [],
      "source": [
        "from imblearn.over_sampling import SMOTE\n",
        "\n",
        "smote = SMOTE(sampling_strategy='minority', random_state=42)\n",
        "X_train_resampled, y_train_resampled = smote.fit_resample(X_train,y_train) ## aplicado apenas nos dados de treino"
      ]
    },
    {
      "cell_type": "code",
      "execution_count": null,
      "metadata": {
        "colab": {
          "base_uri": "https://localhost:8080/"
        },
        "id": "6cA3gTLgYceZ",
        "outputId": "f02ec924-bdf4-4400-cdf5-12c882d0c9ce"
      },
      "outputs": [
        {
          "data": {
            "text/plain": [
              "((628773, 59), (628773,), (564432, 59), (564432,))"
            ]
          },
          "execution_count": 34,
          "metadata": {},
          "output_type": "execute_result"
        }
      ],
      "source": [
        "X_train_resampled.shape, y_train_resampled.shape , X.shape, y.shape # usado apena pra poder visualizar o quando a base cresceu"
      ]
    },
    {
      "cell_type": "code",
      "execution_count": null,
      "metadata": {
        "colab": {
          "base_uri": "https://localhost:8080/",
          "height": 521
        },
        "id": "q9770H6_YlT4",
        "outputId": "474c1389-71d9-4e0b-c8d9-e9c302868190"
      },
      "outputs": [
        {
          "data": {
            "text/plain": [
              "<Axes: xlabel='count', ylabel='TIPO_VIOLENCIA'>"
            ]
          },
          "execution_count": 35,
          "metadata": {},
          "output_type": "execute_result"
        },
        {
          "data": {
            "image/png": "[encoded data removed]",
            "text/plain": [
              "<Figure size 800x550 with 1 Axes>"
            ]
          },
          "metadata": {},
          "output_type": "display_data"
        }
      ],
      "source": [
        "sns.countplot( data=y_train_resampled) # verificar em forma grafica o balanceamento"
      ]
    },
    {
      "cell_type": "markdown",
      "metadata": {
        "id": "JRxHxzspQVBj"
      },
      "source": [
        "## Algoritimos de Aprendizagem - pos balancemento classe (psicologica)\n"
      ]
    },
    {
      "cell_type": "markdown",
      "metadata": {
        "id": "mkosy8HbZ-Gb"
      },
      "source": [
        "pós o balanceamento da classe psicológica, utilizei alguns algoritmos para verificar se haverá melhora ou diminuição na precisão e acurácia. Com base nos resultados, tomaremos novas medidas."
      ]
    },
    {
      "cell_type": "code",
      "execution_count": null,
      "metadata": {
        "colab": {
          "base_uri": "https://localhost:8080/"
        },
        "id": "bGtlhC-FneQE",
        "outputId": "bd91da1e-554a-4069-d35a-8c5351c78567"
      },
      "outputs": [
        {
          "name": "stdout",
          "output_type": "stream",
          "text": [
            "Relatório de Classificação:\n",
            "\n",
            "              precision    recall  f1-score   support\n",
            "\n",
            "      física       0.84      0.72      0.78    115303\n",
            "     nenhuma       0.81      0.57      0.67     17859\n",
            "      outros       0.74      0.10      0.18     21011\n",
            " psicológica       0.17      0.62      0.27     15157\n",
            "\n",
            "    accuracy                           0.62    169330\n",
            "   macro avg       0.64      0.50      0.47    169330\n",
            "weighted avg       0.76      0.62      0.65    169330\n",
            "\n"
          ]
        }
      ],
      "source": [
        "modelo = RandomForestClassifier(max_depth=10,\n",
        "        min_samples_split=5,\n",
        "        n_estimators=100,\n",
        "        random_state=42)\n",
        "modelo.fit(X_train_resampled, y_train_resampled)\n",
        "\n",
        "y_pred = modelo.predict(X_test)\n",
        "\n",
        "print(\"Relatório de Classificação:\\n\")\n",
        "print(classification_report(y_test, y_pred))"
      ]
    },
    {
      "cell_type": "code",
      "execution_count": null,
      "metadata": {
        "colab": {
          "base_uri": "https://localhost:8080/"
        },
        "id": "jSZUjcoWaPiy",
        "outputId": "66a02860-96eb-4638-a19f-111e21309fa7"
      },
      "outputs": [
        {
          "name": "stdout",
          "output_type": "stream",
          "text": [
            "[LightGBM] [Warning] Found whitespace in feature_names, replace with underlines\n",
            "[LightGBM] [Info] Auto-choosing row-wise multi-threading, the overhead of testing was 0.471533 seconds.\n",
            "You can set `force_row_wise=true` to remove the overhead.\n",
            "And if memory is not enough, you can set `force_col_wise=true`.\n",
            "[LightGBM] [Info] Total Bins 876\n",
            "[LightGBM] [Info] Number of data points in the train set: 628773, number of used features: 59\n",
            "[LightGBM] [Info] Start training from score -0.848918\n",
            "[LightGBM] [Info] Start training from score -2.713941\n",
            "[LightGBM] [Info] Start training from score -2.551440\n",
            "[LightGBM] [Info] Start training from score -0.848918\n",
            "              precision    recall  f1-score   support\n",
            "\n",
            "      física       0.85      0.87      0.86    115303\n",
            "     nenhuma       0.79      0.75      0.77     17859\n",
            "      outros       0.66      0.55      0.60     21011\n",
            " psicológica       0.28      0.31      0.29     15157\n",
            "\n",
            "    accuracy                           0.77    169330\n",
            "   macro avg       0.65      0.62      0.63    169330\n",
            "weighted avg       0.77      0.77      0.77    169330\n",
            "\n"
          ]
        }
      ],
      "source": [
        "model_lgb = lgb.LGBMClassifier(\n",
        "    objective='multiclass',\n",
        "    random_state=42,\n",
        "    n_estimators=200,\n",
        "    learning_rate=0.1,\n",
        "    num_leaves = 63 ,\n",
        "    scale_pos_weight=3,  # dizendo que a classe psicologica e mais importante\n",
        "\n",
        ")\n",
        "model_lgb.fit(X_train_resampled, y_train_resampled)\n",
        "\n",
        "# 4. Avaliar\n",
        "y_pred = model_lgb.predict(X_test)\n",
        "print(classification_report(y_test, y_pred))"
      ]
    },
    {
      "cell_type": "markdown",
      "metadata": {
        "id": "uJPAY1Qkbcpk"
      },
      "source": [
        "Ao realizar os testes pós-balanceamento, vimos que a acurácia caiu um pouco e, além disso, o número de recall e precisão das outras classes também diminuiu. Porém, os valores da classe psicológica aumentaram um pouco, o que já representa uma grande melhora. Vamos tentar aplicar o SMOTE novamente e verificar se teremos uma melhora ou piora nos resultados."
      ]
    },
    {
      "cell_type": "markdown",
      "metadata": {
        "id": "1aQO-XvvcPxC"
      },
      "source": [
        "## Balanceamento dos dados - (completo)"
      ]
    },
    {
      "cell_type": "code",
      "execution_count": null,
      "metadata": {
        "id": "ZT5rw_VISxNh"
      },
      "outputs": [],
      "source": [
        "# Ao verificar o grafico percebemos que existe um desbalanceamento enorme entre as classes vamos tentar resolver isso aplicando\n",
        "# tecnicas de balanceamento em tudo\n",
        "\n",
        "# -> Aplicando o SMOTE nos dados de treino\n",
        "\n",
        "from imblearn.over_sampling import SMOTE\n",
        "\n",
        "smote = SMOTE() # Aplicado o balanceamento em tudo visto que tava tudo muito abaixo do normal\n",
        "X__resampled, y_resampled = smote.fit_resample(X_train,y_train) ## aplicado apenas nos dados de treino"
      ]
    },
    {
      "cell_type": "code",
      "execution_count": null,
      "metadata": {
        "colab": {
          "base_uri": "https://localhost:8080/"
        },
        "id": "XAPlAAOJTYrp",
        "outputId": "805d6b9a-2d29-4a04-f42d-69b0ac349cea"
      },
      "outputs": [
        {
          "output_type": "execute_result",
          "data": {
            "text/plain": [
              "<Axes: xlabel='TIPO_VIOLENCIA', ylabel='count'>"
            ]
          },
          "metadata": {},
          "execution_count": 22
        },
        {
          "output_type": "display_data",
          "data": {
            "text/plain": [
              "<Figure size 640x480 with 1 Axes>"
            ],
            "image/png": "[encoded data removed]"
          },
          "metadata": {}
        }
      ],
      "source": [
        "sns.countplot(x=y_resampled)"
      ]
    },
    {
      "cell_type": "code",
      "execution_count": null,
      "metadata": {
        "colab": {
          "base_uri": "https://localhost:8080/"
        },
        "id": "X8yfkMnyUWl5",
        "outputId": "fa64f3cc-ec85-492c-c5ab-2d4cef70208f"
      },
      "outputs": [
        {
          "output_type": "execute_result",
          "data": {
            "text/plain": [
              "((1076152, 59), (1076152,), (564432, 59), (564432,))"
            ]
          },
          "metadata": {},
          "execution_count": 23
        }
      ],
      "source": [
        "X__resampled.shape, y_resampled.shape , X.shape, y.shape\n",
        "\n",
        "# aqui podemos ver que  saimos de 500 mil pra 1 milhao e 500 mil dados\n"
      ]
    },
    {
      "cell_type": "markdown",
      "metadata": {
        "id": "cz5z3z2bc5pL"
      },
      "source": [
        "## Algoritimos de Aprendizagem - Pos balanceamento completo"
      ]
    },
    {
      "cell_type": "code",
      "execution_count": null,
      "metadata": {
        "colab": {
          "base_uri": "https://localhost:8080/"
        },
        "id": "xLhFqfg9VL-D",
        "outputId": "8a5f82dc-2780-44db-ca4a-4abbea9b534a"
      },
      "outputs": [
        {
          "name": "stdout",
          "output_type": "stream",
          "text": [
            "Relatório de Classificação:\n",
            "\n",
            "              precision    recall  f1-score   support\n",
            "\n",
            "      física       0.90      0.60      0.72    115303\n",
            "     nenhuma       0.63      0.82      0.71     17859\n",
            "      outros       0.45      0.83      0.58     21011\n",
            " psicológica       0.20      0.39      0.26     15157\n",
            "\n",
            "    accuracy                           0.63    169330\n",
            "   macro avg       0.54      0.66      0.57    169330\n",
            "weighted avg       0.75      0.63      0.66    169330\n",
            "\n"
          ]
        }
      ],
      "source": [
        "modelo = RandomForestClassifier(max_depth=10,\n",
        "        n_estimators=100,\n",
        "        random_state=42)\n",
        "modelo.fit(X__resampled, y_resampled)\n",
        "\n",
        "y_pred = modelo.predict(X_test)\n",
        "\n",
        "print(\"Relatório de Classificação:\\n\")\n",
        "print(classification_report(y_test, y_pred))"
      ]
    },
    {
      "cell_type": "code",
      "execution_count": null,
      "metadata": {
        "colab": {
          "base_uri": "https://localhost:8080/"
        },
        "id": "TA7dz8HZg3b7",
        "outputId": "a5385817-b65a-4417-e1bf-4cb2a83d3486"
      },
      "outputs": [
        {
          "name": "stdout",
          "output_type": "stream",
          "text": [
            "              precision    recall  f1-score   support\n",
            "\n",
            "      física       0.91      0.55      0.69    115303\n",
            "     nenhuma       0.72      0.80      0.76     17859\n",
            "      outros       0.47      0.83      0.60     21011\n",
            " psicológica       0.19      0.53      0.28     15157\n",
            "\n",
            "    accuracy                           0.61    169330\n",
            "   macro avg       0.57      0.68      0.58    169330\n",
            "weighted avg       0.77      0.61      0.65    169330\n",
            "\n"
          ]
        }
      ],
      "source": [
        "# Rodando o Random Forest com pessos\n",
        "\n",
        "modelo = RandomForestClassifier(max_depth=20,\n",
        "        min_samples_split=2,\n",
        "        class_weight={'psicológica': 2, 'física': 1, 'nenhuma': 1, 'outros': 1.5},\n",
        "        n_estimators=100,\n",
        "        random_state=42)\n",
        "\n",
        "\n",
        "modelo.fit(X__resampled, y_resampled)\n",
        "\n",
        "y_pred = modelo.predict(X_test)\n",
        "print(classification_report(y_test, y_pred))"
      ]
    },
    {
      "cell_type": "markdown",
      "metadata": {
        "id": "38FvQgTlghNb"
      },
      "source": [
        "Novamente a acuracia diminuiu bastante vamos tentar implementar os outros algoritimos para encontrar o que se sai melhor."
      ]
    },
    {
      "cell_type": "code",
      "execution_count": null,
      "metadata": {
        "colab": {
          "base_uri": "https://localhost:8080/"
        },
        "id": "XssZYJFRiS6s",
        "outputId": "1fc755f0-0b84-4679-91f9-d4dc92638e9c"
      },
      "outputs": [
        {
          "name": "stderr",
          "output_type": "stream",
          "text": [
            "/usr/local/lib/python3.11/dist-packages/xgboost/core.py:158: UserWarning: [18:26:18] WARNING: /workspace/src/learner.cc:740: \n",
            "Parameters: { \"use_label_encoder\" } are not used.\n",
            "\n",
            "  warnings.warn(smsg, UserWarning)\n"
          ]
        },
        {
          "name": "stdout",
          "output_type": "stream",
          "text": [
            "Relatório de Classificação:\n",
            "\n",
            "              precision    recall  f1-score   support\n",
            "\n",
            "           0       0.88      0.79      0.83    115303\n",
            "           1       0.70      0.82      0.76     17859\n",
            "           2       0.52      0.79      0.63     21011\n",
            "           3       0.30      0.28      0.29     15157\n",
            "\n",
            "    accuracy                           0.74    169330\n",
            "   macro avg       0.60      0.67      0.63    169330\n",
            "weighted avg       0.77      0.74      0.75    169330\n",
            "\n"
          ]
        }
      ],
      "source": [
        "from xgboost import XGBClassifier\n",
        "\n",
        "model = XGBClassifier(\n",
        "    objective='multi:softmax',   # ou 'multi:softprob' se quiser as probabilidades\n",
        "    num_class=4,                 # quantidade de classes que você temos\n",
        "    eval_metric='mlogloss',\n",
        "    use_label_encoder=False,\n",
        "    random_state=42\n",
        ")\n",
        "\n",
        "# o xgb nao aceita rotulos como fisica,nenhuma,etc entao tive que transformar tudo em numero\n",
        "le = LabelEncoder()\n",
        "\n",
        "y_train_encoded = le.fit_transform(y_resampled)\n",
        "y_test_encoded = le.transform(y_test)\n",
        "\n",
        "model.fit(X__resampled, y_train_encoded)\n",
        "\n",
        "y_pred = model.predict(X_test)\n",
        "\n",
        "print(\"Relatório de Classificação:\\n\")\n",
        "print(classification_report(y_test_encoded, y_pred))"
      ]
    },
    {
      "cell_type": "markdown",
      "metadata": {
        "id": "aoxZciIexMrq"
      },
      "source": [
        "Tivemos um aumento considerável na acurácia, porém ainda não conseguimos melhorar o recall e a precisão da classe psicológica. Tentaremos utilizar outros modelos para verificar qual se sai melhor."
      ]
    },
    {
      "cell_type": "code",
      "execution_count": null,
      "metadata": {
        "colab": {
          "base_uri": "https://localhost:8080/"
        },
        "id": "mkCQFA2gimUM",
        "outputId": "6c10efd7-2207-4ee9-9d5f-ea7a4e3b4670"
      },
      "outputs": [
        {
          "name": "stdout",
          "output_type": "stream",
          "text": [
            "Iteration 1, loss = 0.69826398\n",
            "Validation score: 0.752016\n",
            "Iteration 2, loss = 0.60806466\n",
            "Validation score: 0.760668\n",
            "Iteration 3, loss = 0.58725674\n",
            "Validation score: 0.759302\n",
            "Iteration 4, loss = 0.57699067\n",
            "Validation score: 0.767247\n",
            "Iteration 5, loss = 0.56953092\n",
            "Validation score: 0.773370\n",
            "Iteration 6, loss = 0.56398875\n",
            "Validation score: 0.771019\n",
            "Iteration 7, loss = 0.55999186\n",
            "Validation score: 0.770991\n",
            "Iteration 8, loss = 0.55659824\n",
            "Validation score: 0.774299\n",
            "Iteration 9, loss = 0.55350012\n",
            "Validation score: 0.775582\n",
            "Iteration 10, loss = 0.55081863\n",
            "Validation score: 0.776074\n",
            "Iteration 11, loss = 0.54861312\n",
            "Validation score: 0.776622\n",
            "Iteration 12, loss = 0.54675488\n",
            "Validation score: 0.777115\n",
            "Iteration 13, loss = 0.54498587\n",
            "Validation score: 0.778955\n",
            "Iteration 14, loss = 0.54310593\n",
            "Validation score: 0.779484\n",
            "Iteration 15, loss = 0.54160089\n",
            "Validation score: 0.778481\n",
            "Iteration 16, loss = 0.54063858\n",
            "Validation score: 0.779243\n",
            "Iteration 17, loss = 0.53913462\n",
            "Validation score: 0.781194\n",
            "Iteration 18, loss = 0.53791670\n",
            "Validation score: 0.779986\n",
            "Iteration 19, loss = 0.53655624\n",
            "Validation score: 0.781120\n",
            "Iteration 20, loss = 0.53514818\n",
            "Validation score: 0.779234\n",
            "Iteration 21, loss = 0.53396426\n",
            "Validation score: 0.784131\n",
            "Iteration 22, loss = 0.53289638\n",
            "Validation score: 0.783136\n",
            "Iteration 23, loss = 0.53162067\n",
            "Validation score: 0.783601\n",
            "Iteration 24, loss = 0.53056346\n",
            "Validation score: 0.778741\n",
            "Iteration 25, loss = 0.52977190\n",
            "Validation score: 0.783034\n",
            "Iteration 26, loss = 0.52841210\n",
            "Validation score: 0.785859\n",
            "Iteration 27, loss = 0.52760699\n",
            "Validation score: 0.783666\n",
            "Iteration 28, loss = 0.52693812\n",
            "Validation score: 0.785301\n",
            "Iteration 29, loss = 0.52583849\n",
            "Validation score: 0.787002\n",
            "Iteration 30, loss = 0.52498553\n",
            "Validation score: 0.787030\n",
            "Iteration 31, loss = 0.52442816\n",
            "Validation score: 0.786128\n",
            "Iteration 32, loss = 0.52343141\n",
            "Validation score: 0.786407\n",
            "Iteration 33, loss = 0.52281175\n",
            "Validation score: 0.787680\n",
            "Iteration 34, loss = 0.52188663\n",
            "Validation score: 0.783805\n",
            "Iteration 35, loss = 0.52112765\n",
            "Validation score: 0.785673\n",
            "Iteration 36, loss = 0.52055305\n",
            "Validation score: 0.788712\n",
            "Iteration 37, loss = 0.51995166\n",
            "Validation score: 0.789000\n",
            "Iteration 38, loss = 0.51943437\n",
            "Validation score: 0.789483\n",
            "Iteration 39, loss = 0.51885300\n",
            "Validation score: 0.787457\n",
            "Iteration 40, loss = 0.51825481\n",
            "Validation score: 0.788860\n",
            "Iteration 41, loss = 0.51773457\n",
            "Validation score: 0.784818\n",
            "Iteration 42, loss = 0.51697272\n",
            "Validation score: 0.787030\n",
            "Iteration 43, loss = 0.51711455\n",
            "Validation score: 0.791314\n",
            "Iteration 44, loss = 0.51667998\n",
            "Validation score: 0.790645\n",
            "Iteration 45, loss = 0.51604189\n",
            "Validation score: 0.789195\n",
            "Iteration 46, loss = 0.51585338\n",
            "Validation score: 0.790403\n",
            "Iteration 47, loss = 0.51544383\n",
            "Validation score: 0.789539\n",
            "Iteration 48, loss = 0.51506585\n",
            "Validation score: 0.787578\n",
            "Iteration 49, loss = 0.51478139\n",
            "Validation score: 0.789399\n",
            "Iteration 50, loss = 0.51463103\n",
            "Validation score: 0.789650\n",
            "Iteration 51, loss = 0.51420040\n",
            "Validation score: 0.789446\n",
            "Iteration 52, loss = 0.51395570\n",
            "Validation score: 0.789687\n",
            "Iteration 53, loss = 0.51395842\n",
            "Validation score: 0.790840\n",
            "Iteration 54, loss = 0.51347610\n",
            "Validation score: 0.791518\n",
            "Iteration 55, loss = 0.51311007\n",
            "Validation score: 0.789966\n",
            "Iteration 56, loss = 0.51334065\n",
            "Validation score: 0.789892\n",
            "Iteration 57, loss = 0.51283091\n",
            "Validation score: 0.793609\n",
            "Iteration 58, loss = 0.51276986\n",
            "Validation score: 0.791276\n",
            "Iteration 59, loss = 0.51260377\n",
            "Validation score: 0.791592\n",
            "Iteration 60, loss = 0.51244535\n",
            "Validation score: 0.791118\n",
            "Iteration 61, loss = 0.51198030\n",
            "Validation score: 0.793218\n",
            "Iteration 62, loss = 0.51180315\n",
            "Validation score: 0.791518\n",
            "Iteration 63, loss = 0.51155169\n",
            "Validation score: 0.792020\n",
            "Iteration 64, loss = 0.51163468\n",
            "Validation score: 0.790124\n",
            "Iteration 65, loss = 0.51130839\n",
            "Validation score: 0.792484\n",
            "Iteration 66, loss = 0.51109412\n",
            "Validation score: 0.792717\n",
            "Iteration 67, loss = 0.51111571\n",
            "Validation score: 0.791815\n",
            "Iteration 68, loss = 0.51069364\n",
            "Validation score: 0.792299\n",
            "Validation score did not improve more than tol=0.000100 for 10 consecutive epochs. Stopping.\n",
            "              precision    recall  f1-score   support\n",
            "\n",
            "           0       0.88      0.79      0.83    115303\n",
            "           1       0.70      0.82      0.76     17859\n",
            "           2       0.56      0.73      0.63     21011\n",
            "           3       0.27      0.30      0.28     15157\n",
            "\n",
            "    accuracy                           0.74    169330\n",
            "   macro avg       0.60      0.66      0.63    169330\n",
            "weighted avg       0.76      0.74      0.75    169330\n",
            "\n"
          ]
        }
      ],
      "source": [
        "from sklearn.neural_network import MLPClassifier\n",
        "\n",
        "mlp = MLPClassifier(\n",
        "    hidden_layer_sizes=(100, 50),  # 2 camadas ocultas\n",
        "    max_iter=300, # numeros de iteraçoes\n",
        "    random_state=42,\n",
        "    early_stopping=True,\n",
        "    verbose=True\n",
        ")\n",
        "\n",
        "mlp.fit(X__resampled, y_train_encoded)\n",
        "\n",
        "y_pred = mlp.predict(X_test)\n",
        "\n",
        "print(classification_report(y_test_encoded, y_pred))"
      ]
    },
    {
      "cell_type": "markdown",
      "metadata": {
        "id": "K41SzHegxzFp"
      },
      "source": [
        "Os valores continuam muito ruins."
      ]
    },
    {
      "cell_type": "code",
      "execution_count": null,
      "metadata": {
        "colab": {
          "base_uri": "https://localhost:8080/"
        },
        "id": "bnaMHsrzi2XA",
        "outputId": "7f5907ef-1755-4d46-edd1-0a156285d5db"
      },
      "outputs": [
        {
          "name": "stdout",
          "output_type": "stream",
          "text": [
            "[LightGBM] [Warning] Found whitespace in feature_names, replace with underlines\n",
            "[LightGBM] [Info] Auto-choosing row-wise multi-threading, the overhead of testing was 0.513102 seconds.\n",
            "You can set `force_row_wise=true` to remove the overhead.\n",
            "And if memory is not enough, you can set `force_col_wise=true`.\n",
            "[LightGBM] [Info] Total Bins 878\n",
            "[LightGBM] [Info] Number of data points in the train set: 1076152, number of used features: 59\n",
            "[LightGBM] [Info] Start training from score -1.386294\n",
            "[LightGBM] [Info] Start training from score -1.386294\n",
            "[LightGBM] [Info] Start training from score -1.386294\n",
            "[LightGBM] [Info] Start training from score -1.386294\n",
            "              precision    recall  f1-score   support\n",
            "\n",
            "      física       0.88      0.81      0.84    115303\n",
            "     nenhuma       0.72      0.81      0.76     17859\n",
            "      outros       0.55      0.76      0.64     21011\n",
            " psicológica       0.31      0.26      0.28     15157\n",
            "\n",
            "    accuracy                           0.76    169330\n",
            "   macro avg       0.61      0.66      0.63    169330\n",
            "weighted avg       0.77      0.76      0.76    169330\n",
            "\n"
          ]
        }
      ],
      "source": [
        "import lightgbm as lgb\n",
        "\n",
        "\n",
        "model_lgb = lgb.LGBMClassifier(\n",
        "    objective='multiclass',\n",
        "    random_state=42,\n",
        "    n_estimators=200,\n",
        "    learning_rate=0.1,\n",
        "    num_leaves = 63 ,\n",
        "    scale_pos_weight=3,  # dizendo que a classe e mais importante\n",
        "\n",
        ")\n",
        "model_lgb.fit(X__resampled, y_resampled)\n",
        "\n",
        "# 4. Avaliar\n",
        "y_pred = model_lgb.predict(X_test)\n",
        "print(classification_report(y_test, y_pred))"
      ]
    },
    {
      "cell_type": "markdown",
      "metadata": {
        "id": "ic3ecKWvxh_5"
      },
      "source": [
        "A acurácia aumentou bastante, porém os parâmetros da classe psicológica ainda estão muito baixos.Vamos tentar entender o problema."
      ]
    },
    {
      "cell_type": "code",
      "execution_count": null,
      "metadata": {
        "colab": {
          "base_uri": "https://localhost:8080/",
          "height": 524
        },
        "id": "zoW1WBFNyEsh",
        "outputId": "4e74a13c-f1a1-4fff-ebd8-79e3f943ce1c"
      },
      "outputs": [
        {
          "data": {
            "image/png": "[encoded data removed]",
            "text/plain": [
              "<Figure size 800x550 with 2 Axes>"
            ]
          },
          "metadata": {},
          "output_type": "display_data"
        }
      ],
      "source": [
        "# vou criar uma matriz de confunsão para tentar entender oque esta acontecendo\n",
        "from sklearn.metrics import confusion_matrix\n",
        "\n",
        "cm = confusion_matrix(y_test, y_pred, labels=['física', 'nenhuma', 'outros', 'psicológica'])\n",
        "sns.heatmap(cm, annot=True, fmt='d', xticklabels=['física', 'nenhuma', 'outros', 'psicológica'], yticklabels=['física', 'nenhuma', 'outros', 'psicológica'])\n",
        "plt.xlabel('Predito')\n",
        "plt.ylabel('Real')\n",
        "plt.title('Matriz de Confusão')\n",
        "plt.show()"
      ]
    },
    {
      "cell_type": "code",
      "execution_count": null,
      "metadata": {
        "colab": {
          "base_uri": "https://localhost:8080/",
          "height": 951
        },
        "id": "GWznCxOnyNxq",
        "outputId": "a176a2ff-656a-4509-bf7f-82ee109c02d0"
      },
      "outputs": [
        {
          "data": {
            "image/png": "[encoded data removed]",
            "text/plain": [
              "<Figure size 800x950 with 1 Axes>"
            ]
          },
          "metadata": {},
          "output_type": "display_data"
        }
      ],
      "source": [
        "# Vamos usar o shap para tentar entender quais atributos estão infuenciando o modelo a confunfir psicologica com fisica\n",
        "\n",
        "import shap\n",
        "\n",
        "explainer = shap.TreeExplainer(modelo)\n",
        "\n",
        "\n",
        "shap_values = explainer.shap_values(X_test[:100])\n",
        "\n",
        "\n",
        "shap.summary_plot(shap_values, X_test[:100], plot_type=\"bar\")\n"
      ]
    },
    {
      "cell_type": "markdown",
      "metadata": {
        "id": "R87ej9Ceyk30"
      },
      "source": [
        "Com os dados, foi identificado que um dos principais problemas da classe é a baixa representatividade, além da falta de informações que ajudem o modelo a identificar melhor o tipo de violência. Com isso, não foi possível aumentar significativamente os valores da classe psicológica"
      ]
    },
    {
      "cell_type": "markdown",
      "metadata": {
        "id": "84pRzKLbzuOJ"
      },
      "source": [
        "O próximo passo é tentar maximizar o resultado de cada modelo. Para isso, vamos implementar o GridSearch, que nos ajudará justamente a encontrar os melhores parâmetros."
      ]
    },
    {
      "cell_type": "markdown",
      "metadata": {
        "id": "AcVlF35p0QvZ"
      },
      "source": [
        "## GridSearch - Maximizando o desempenho dos modelos"
      ]
    },
    {
      "cell_type": "markdown",
      "metadata": {
        "id": "AGy3te7S7uWF"
      },
      "source": [
        "vamos usar o GridSearch para tentar encontrar o hiperparametros ideais de cada modelo."
      ]
    },
    {
      "cell_type": "code",
      "execution_count": null,
      "metadata": {
        "colab": {
          "base_uri": "https://localhost:8080/"
        },
        "id": "CGwNzn0nt1uB",
        "outputId": "0f6c47e2-425d-4721-f3be-99b45e01680f"
      },
      "outputs": [
        {
          "name": "stdout",
          "output_type": "stream",
          "text": [
            "Fitting 2 folds for each of 8 candidates, totalling 16 fits\n"
          ]
        },
        {
          "name": "stderr",
          "output_type": "stream",
          "text": [
            "/usr/local/lib/python3.11/dist-packages/joblib/externals/loky/process_executor.py:752: UserWarning: A worker stopped while some jobs were given to the executor. This can be caused by a too short worker timeout or by a memory leak.\n",
            "  warnings.warn(\n"
          ]
        },
        {
          "name": "stdout",
          "output_type": "stream",
          "text": [
            "Melhores parâmetros encontrados:\n",
            "{'class_weight': 'balanced', 'max_depth': 20, 'min_samples_split': 2, 'n_estimators': 200}\n",
            "Relatório de Classificação com o Melhor Modelo:\n",
            "              precision    recall  f1-score   support\n",
            "\n",
            "      física       0.89      0.74      0.81    115303\n",
            "     nenhuma       0.70      0.82      0.75     17859\n",
            "      outros       0.50      0.81      0.62     21011\n",
            " psicológica       0.26      0.33      0.29     15157\n",
            "\n",
            "    accuracy                           0.72    169330\n",
            "   macro avg       0.59      0.68      0.62    169330\n",
            "weighted avg       0.77      0.72      0.73    169330\n",
            "\n"
          ]
        }
      ],
      "source": [
        "# vou agora tentar implementar o grid search pra tentar achar o parametro ideal do ramdom forest\n",
        "from sklearn.model_selection import GridSearchCV\n",
        "\n",
        "rf = RandomForestClassifier(random_state=42)\n",
        "\n",
        "param_grid = {\n",
        "    'n_estimators': [100, 200],\n",
        "    'max_depth': [10, 20],\n",
        "    'min_samples_split': [2, 5],\n",
        "    'class_weight': ['balanced']\n",
        "}\n",
        "\n",
        "grid_search = GridSearchCV(\n",
        "    estimator=rf,\n",
        "    param_grid=param_grid,\n",
        "    scoring='f1_macro',  # mais justo que accuracy\n",
        "    cv=2,                # 2-fold cross-validation\n",
        "    verbose=2,\n",
        "    n_jobs=-1            # usa todos os núcleos do processador\n",
        ")\n",
        "# Executando o grid search\n",
        "grid_search.fit(X__resampled, y_resampled)\n",
        "\n",
        "melhores_parametros = grid_search.best_params_\n",
        "melhor_modelo = grid_search.best_estimator_\n",
        "\n",
        "# Avaliando o modelo com os melhores parâmetros\n",
        "y_pred = melhor_modelo.predict(X_test)\n",
        "\n",
        "print(\"Melhores parâmetros encontrados:\")\n",
        "print(melhores_parametros)\n",
        "\n",
        "print(\"Relatório de Classificação com o Melhor Modelo:\")\n",
        "print(classification_report(y_test, y_pred))\n"
      ]
    },
    {
      "cell_type": "code",
      "execution_count": null,
      "metadata": {
        "colab": {
          "base_uri": "https://localhost:8080/"
        },
        "id": "RMUaZZ2lkIr6",
        "outputId": "a9a25e91-837b-4c5c-b0e5-4ffc360f43d0"
      },
      "outputs": [
        {
          "output_type": "stream",
          "name": "stdout",
          "text": [
            "Fitting 2 folds for each of 12 candidates, totalling 24 fits\n",
            "[LightGBM] [Warning] Found whitespace in feature_names, replace with underlines\n",
            "[LightGBM] [Info] Auto-choosing row-wise multi-threading, the overhead of testing was 0.532488 seconds.\n",
            "You can set `force_row_wise=true` to remove the overhead.\n",
            "And if memory is not enough, you can set `force_col_wise=true`.\n",
            "[LightGBM] [Info] Total Bins 878\n",
            "[LightGBM] [Info] Number of data points in the train set: 1076152, number of used features: 59\n",
            "[LightGBM] [Info] Start training from score -1.386294\n",
            "[LightGBM] [Info] Start training from score -1.386294\n",
            "[LightGBM] [Info] Start training from score -1.386294\n",
            "[LightGBM] [Info] Start training from score -1.386294\n",
            "Melhores parâmetros encontrados:\n",
            "{'learning_rate': 0.1, 'n_estimators': 300, 'num_leaves': 63}\n",
            "Relatório de Classificação com o Melhor Modelo:\n",
            "              precision    recall  f1-score   support\n",
            "\n",
            "      física       0.87      0.82      0.85    115303\n",
            "     nenhuma       0.73      0.81      0.77     17859\n",
            "      outros       0.55      0.76      0.64     21011\n",
            " psicológica       0.31      0.25      0.28     15157\n",
            "\n",
            "    accuracy                           0.76    169330\n",
            "   macro avg       0.62      0.66      0.63    169330\n",
            "weighted avg       0.77      0.76      0.76    169330\n",
            "\n"
          ]
        }
      ],
      "source": [
        "# Tentando encontrar o parametro ideal do LGBMClassifier que obteve a melhor metrica ate o momento\n",
        "from lightgbm import LGBMClassifier\n",
        "from sklearn.model_selection import GridSearchCV\n",
        "from sklearn.metrics import classification_report\n",
        "# definindo o modelo bas\n",
        "lgbm = LGBMClassifier(objective='multiclass', random_state=42)\n",
        "\n",
        "# Definindo o grid de hiperparâmetros\n",
        "param_grid = {\n",
        "    'n_estimators': [200, 300],  # número de árvores\n",
        "    'learning_rate': [0.01, 0.05, 0.1],  # taxa de aprendizado\n",
        "    'num_leaves': [31, 63],           # número de folhas (complexidade das árvores)\n",
        "}\n",
        "\n",
        "\n",
        "# Configurando o GridSearchCV\n",
        "grid_search = GridSearchCV(\n",
        "    estimator=lgbm,\n",
        "    param_grid=param_grid,\n",
        "    scoring='f1_macro',\n",
        "    cv=2,\n",
        "    verbose=2,\n",
        "    n_jobs=-1\n",
        ")\n",
        "# Executando o grid search\n",
        "grid_search.fit(X__resampled, y_resampled)\n",
        "\n",
        "melhores_parametros = grid_search.best_params_\n",
        "melhor_modelo = grid_search.best_estimator_\n",
        "\n",
        "# Avaliando o modelo com os melhores parâmetros\n",
        "y_pred = melhor_modelo.predict(X_test)\n",
        "\n",
        "print(\"Melhores parâmetros encontrados:\")\n",
        "print(melhores_parametros)\n",
        "\n",
        "print(\"Relatório de Classificação com o Melhor Modelo:\")\n",
        "print(classification_report(y_test, y_pred))\n"
      ]
    },
    {
      "cell_type": "code",
      "execution_count": null,
      "metadata": {
        "colab": {
          "base_uri": "https://localhost:8080/"
        },
        "id": "Ql4pd0c01VM0",
        "outputId": "6134d906-488a-421e-8b8f-2984776ea2b5"
      },
      "outputs": [
        {
          "name": "stdout",
          "output_type": "stream",
          "text": [
            "Fitting 5 folds for each of 18 candidates, totalling 90 fits\n"
          ]
        },
        {
          "name": "stderr",
          "output_type": "stream",
          "text": [
            "/usr/local/lib/python3.11/dist-packages/joblib/externals/loky/process_executor.py:752: UserWarning: A worker stopped while some jobs were given to the executor. This can be caused by a too short worker timeout or by a memory leak.\n",
            "  warnings.warn(\n",
            "/usr/local/lib/python3.11/dist-packages/xgboost/core.py:158: UserWarning: [00:38:52] WARNING: /workspace/src/learner.cc:740: \n",
            "Parameters: { \"use_label_encoder\" } are not used.\n",
            "\n",
            "  warnings.warn(smsg, UserWarning)\n"
          ]
        },
        {
          "name": "stdout",
          "output_type": "stream",
          "text": [
            "Melhores parâmetros encontrados para o XGBClassifier:\n",
            "{'learning_rate': 0.2, 'max_depth': 10, 'n_estimators': 200, 'subsample': 0.8}\n",
            "Relatório de Classificação com o Melhor XGBClassifier:\n",
            "              precision    recall  f1-score   support\n",
            "\n",
            "           0       0.87      0.82      0.85    115303\n",
            "           1       0.73      0.80      0.77     17859\n",
            "           2       0.55      0.75      0.64     21011\n",
            "           3       0.31      0.26      0.28     15157\n",
            "\n",
            "    accuracy                           0.76    169330\n",
            "   macro avg       0.62      0.66      0.63    169330\n",
            "weighted avg       0.77      0.76      0.76    169330\n",
            "\n"
          ]
        }
      ],
      "source": [
        "from xgboost import XGBClassifier\n",
        "\n",
        "# Instanciando o modelo base\n",
        "modelo_xgb = XGBClassifier(use_label_encoder=False, eval_metric='mlogloss', random_state=42)\n",
        "\n",
        "# Definindo o grid de hiperparâmetros\n",
        "param_grid = {\n",
        "    'n_estimators': [200],\n",
        "    'max_depth': [3, 6, 10],\n",
        "    'learning_rate': [0.01, 0.1, 0.2],\n",
        "    'subsample': [0.8, 1],\n",
        "}\n",
        "\n",
        "# Configurando o GridSearchCV\n",
        "grid_search_xgb = GridSearchCV(\n",
        "    estimator=modelo_xgb,\n",
        "    param_grid=param_grid,\n",
        "    cv=5,  # validação cruzada com 5 folds\n",
        "    scoring='f1_macro',\n",
        "    verbose=2,\n",
        "    n_jobs=-1\n",
        ")\n",
        "\n",
        "le = LabelEncoder()\n",
        "\n",
        "y_train_encoded = le.fit_transform(y_resampled)\n",
        "y_test_encoded = le.transform(y_test)\n",
        "\n",
        "\n",
        "\n",
        "# Treinando com os dados\n",
        "grid_search_xgb.fit(X__resampled, y_train_encoded)\n",
        "\n",
        "# Exibindo os melhores parâmetros\n",
        "print(\"Melhores parâmetros encontrados para o XGBClassifier:\")\n",
        "print(grid_search_xgb.best_params_)\n",
        "\n",
        "# Avaliando o modelo\n",
        "melhor_modelo_xgb = grid_search_xgb.best_estimator_\n",
        "y_pred = melhor_modelo_xgb.predict(X_test)\n",
        "\n",
        "print(\"Relatório de Classificação com o Melhor XGBClassifier:\")\n",
        "print(classification_report(y_test_encoded, y_pred))\n"
      ]
    },
    {
      "cell_type": "markdown",
      "metadata": {
        "id": "zsmdZVox4hGD"
      },
      "source": [
        "Embora as redes neurais sejam modelos muito poderosos e amplamente utilizadas, optamos por desconsiderá-las, pois nos testes anteriores apresentaram um desempenho muito baixo e um tempo de execução bastante elevado em relação aos outros modelos."
      ]
    },
    {
      "cell_type": "markdown",
      "metadata": {
        "id": "xJQF9bTi9U0L"
      },
      "source": [
        "## Salvando o modelo que mais se destacou"
      ]
    },
    {
      "cell_type": "markdown",
      "metadata": {
        "id": "pmDcd3w-9eOK"
      },
      "source": [
        "O modelo LGBM foi oque mais conseguiu valores mais lineares em relação aos outros modelos então vamos salvar ele para podermos ultilizar no nosso sistema web."
      ]
    },
    {
      "cell_type": "code",
      "execution_count": null,
      "metadata": {
        "colab": {
          "base_uri": "https://localhost:8080/",
          "height": 280
        },
        "id": "TD9HX6ooU1Cm",
        "outputId": "17ee3545-daa1-49ec-98d5-24865b38f99b"
      },
      "outputs": [
        {
          "name": "stdout",
          "output_type": "stream",
          "text": [
            "[LightGBM] [Warning] Found whitespace in feature_names, replace with underlines\n",
            "[LightGBM] [Info] Auto-choosing row-wise multi-threading, the overhead of testing was 0.568563 seconds.\n",
            "You can set `force_row_wise=true` to remove the overhead.\n",
            "And if memory is not enough, you can set `force_col_wise=true`.\n",
            "[LightGBM] [Info] Total Bins 878\n",
            "[LightGBM] [Info] Number of data points in the train set: 1076152, number of used features: 59\n",
            "[LightGBM] [Info] Start training from score -1.386294\n",
            "[LightGBM] [Info] Start training from score -1.386294\n",
            "[LightGBM] [Info] Start training from score -1.386294\n",
            "[LightGBM] [Info] Start training from score -1.386294\n"
          ]
        },
        {
          "data": {
            "text/html": [
              "<style>#sk-container-id-4 {\n",
              "  /* Definition of color scheme common for light and dark mode */\n",
              "  --sklearn-color-text: #000;\n",
              "  --sklearn-color-text-muted: #666;\n",
              "  --sklearn-color-line: gray;\n",
              "  /* Definition of color scheme for unfitted estimators */\n",
              "  --sklearn-color-unfitted-level-0: #fff5e6;\n",
              "  --sklearn-color-unfitted-level-1: #f6e4d2;\n",
              "  --sklearn-color-unfitted-level-2: #ffe0b3;\n",
              "  --sklearn-color-unfitted-level-3: chocolate;\n",
              "  /* Definition of color scheme for fitted estimators */\n",
              "  --sklearn-color-fitted-level-0: #f0f8ff;\n",
              "  --sklearn-color-fitted-level-1: #d4ebff;\n",
              "  --sklearn-color-fitted-level-2: #b3dbfd;\n",
              "  --sklearn-color-fitted-level-3: cornflowerblue;\n",
              "\n",
              "  /* Specific color for light theme */\n",
              "  --sklearn-color-text-on-default-background: var(--sg-text-color, var(--theme-code-foreground, var(--jp-content-font-color1, black)));\n",
              "  --sklearn-color-background: var(--sg-background-color, var(--theme-background, var(--jp-layout-color0, white)));\n",
              "  --sklearn-color-border-box: var(--sg-text-color, var(--theme-code-foreground, var(--jp-content-font-color1, black)));\n",
              "  --sklearn-color-icon: #696969;\n",
              "\n",
              "  @media (prefers-color-scheme: dark) {\n",
              "    /* Redefinition of color scheme for dark theme */\n",
              "    --sklearn-color-text-on-default-background: var(--sg-text-color, var(--theme-code-foreground, var(--jp-content-font-color1, white)));\n",
              "    --sklearn-color-background: var(--sg-background-color, var(--theme-background, var(--jp-layout-color0, #111)));\n",
              "    --sklearn-color-border-box: var(--sg-text-color, var(--theme-code-foreground, var(--jp-content-font-color1, white)));\n",
              "    --sklearn-color-icon: #878787;\n",
              "  }\n",
              "}\n",
              "\n",
              "#sk-container-id-4 {\n",
              "  color: var(--sklearn-color-text);\n",
              "}\n",
              "\n",
              "#sk-container-id-4 pre {\n",
              "  padding: 0;\n",
              "}\n",
              "\n",
              "#sk-container-id-4 input.sk-hidden--visually {\n",
              "  border: 0;\n",
              "  clip: rect(1px 1px 1px 1px);\n",
              "  clip: rect(1px, 1px, 1px, 1px);\n",
              "  height: 1px;\n",
              "  margin: -1px;\n",
              "  overflow: hidden;\n",
              "  padding: 0;\n",
              "  position: absolute;\n",
              "  width: 1px;\n",
              "}\n",
              "\n",
              "#sk-container-id-4 div.sk-dashed-wrapped {\n",
              "  border: 1px dashed var(--sklearn-color-line);\n",
              "  margin: 0 0.4em 0.5em 0.4em;\n",
              "  box-sizing: border-box;\n",
              "  padding-bottom: 0.4em;\n",
              "  background-color: var(--sklearn-color-background);\n",
              "}\n",
              "\n",
              "#sk-container-id-4 div.sk-container {\n",
              "  /* jupyter's `normalize.less` sets `[hidden] { display: none; }`\n",
              "     but bootstrap.min.css set `[hidden] { display: none !important; }`\n",
              "     so we also need the `!important` here to be able to override the\n",
              "     default hidden behavior on the sphinx rendered scikit-learn.org.\n",
              "     See: https://github.com/scikit-learn/scikit-learn/issues/21755 */\n",
              "  display: inline-block !important;\n",
              "  position: relative;\n",
              "}\n",
              "\n",
              "#sk-container-id-4 div.sk-text-repr-fallback {\n",
              "  display: none;\n",
              "}\n",
              "\n",
              "div.sk-parallel-item,\n",
              "div.sk-serial,\n",
              "div.sk-item {\n",
              "  /* draw centered vertical line to link estimators */\n",
              "  background-image: linear-gradient(var(--sklearn-color-text-on-default-background), var(--sklearn-color-text-on-default-background));\n",
              "  background-size: 2px 100%;\n",
              "  background-repeat: no-repeat;\n",
              "  background-position: center center;\n",
              "}\n",
              "\n",
              "/* Parallel-specific style estimator block */\n",
              "\n",
              "#sk-container-id-4 div.sk-parallel-item::after {\n",
              "  content: \"\";\n",
              "  width: 100%;\n",
              "  border-bottom: 2px solid var(--sklearn-color-text-on-default-background);\n",
              "  flex-grow: 1;\n",
              "}\n",
              "\n",
              "#sk-container-id-4 div.sk-parallel {\n",
              "  display: flex;\n",
              "  align-items: stretch;\n",
              "  justify-content: center;\n",
              "  background-color: var(--sklearn-color-background);\n",
              "  position: relative;\n",
              "}\n",
              "\n",
              "#sk-container-id-4 div.sk-parallel-item {\n",
              "  display: flex;\n",
              "  flex-direction: column;\n",
              "}\n",
              "\n",
              "#sk-container-id-4 div.sk-parallel-item:first-child::after {\n",
              "  align-self: flex-end;\n",
              "  width: 50%;\n",
              "}\n",
              "\n",
              "#sk-container-id-4 div.sk-parallel-item:last-child::after {\n",
              "  align-self: flex-start;\n",
              "  width: 50%;\n",
              "}\n",
              "\n",
              "#sk-container-id-4 div.sk-parallel-item:only-child::after {\n",
              "  width: 0;\n",
              "}\n",
              "\n",
              "/* Serial-specific style estimator block */\n",
              "\n",
              "#sk-container-id-4 div.sk-serial {\n",
              "  display: flex;\n",
              "  flex-direction: column;\n",
              "  align-items: center;\n",
              "  background-color: var(--sklearn-color-background);\n",
              "  padding-right: 1em;\n",
              "  padding-left: 1em;\n",
              "}\n",
              "\n",
              "\n",
              "/* Toggleable style: style used for estimator/Pipeline/ColumnTransformer box that is\n",
              "clickable and can be expanded/collapsed.\n",
              "- Pipeline and ColumnTransformer use this feature and define the default style\n",
              "- Estimators will overwrite some part of the style using the `sk-estimator` class\n",
              "*/\n",
              "\n",
              "/* Pipeline and ColumnTransformer style (default) */\n",
              "\n",
              "#sk-container-id-4 div.sk-toggleable {\n",
              "  /* Default theme specific background. It is overwritten whether we have a\n",
              "  specific estimator or a Pipeline/ColumnTransformer */\n",
              "  background-color: var(--sklearn-color-background);\n",
              "}\n",
              "\n",
              "/* Toggleable label */\n",
              "#sk-container-id-4 label.sk-toggleable__label {\n",
              "  cursor: pointer;\n",
              "  display: flex;\n",
              "  width: 100%;\n",
              "  margin-bottom: 0;\n",
              "  padding: 0.5em;\n",
              "  box-sizing: border-box;\n",
              "  text-align: center;\n",
              "  align-items: start;\n",
              "  justify-content: space-between;\n",
              "  gap: 0.5em;\n",
              "}\n",
              "\n",
              "#sk-container-id-4 label.sk-toggleable__label .caption {\n",
              "  font-size: 0.6rem;\n",
              "  font-weight: lighter;\n",
              "  color: var(--sklearn-color-text-muted);\n",
              "}\n",
              "\n",
              "#sk-container-id-4 label.sk-toggleable__label-arrow:before {\n",
              "  /* Arrow on the left of the label */\n",
              "  content: \"▸\";\n",
              "  float: left;\n",
              "  margin-right: 0.25em;\n",
              "  color: var(--sklearn-color-icon);\n",
              "}\n",
              "\n",
              "#sk-container-id-4 label.sk-toggleable__label-arrow:hover:before {\n",
              "  color: var(--sklearn-color-text);\n",
              "}\n",
              "\n",
              "/* Toggleable content - dropdown */\n",
              "\n",
              "#sk-container-id-4 div.sk-toggleable__content {\n",
              "  max-height: 0;\n",
              "  max-width: 0;\n",
              "  overflow: hidden;\n",
              "  text-align: left;\n",
              "  /* unfitted */\n",
              "  background-color: var(--sklearn-color-unfitted-level-0);\n",
              "}\n",
              "\n",
              "#sk-container-id-4 div.sk-toggleable__content.fitted {\n",
              "  /* fitted */\n",
              "  background-color: var(--sklearn-color-fitted-level-0);\n",
              "}\n",
              "\n",
              "#sk-container-id-4 div.sk-toggleable__content pre {\n",
              "  margin: 0.2em;\n",
              "  border-radius: 0.25em;\n",
              "  color: var(--sklearn-color-text);\n",
              "  /* unfitted */\n",
              "  background-color: var(--sklearn-color-unfitted-level-0);\n",
              "}\n",
              "\n",
              "#sk-container-id-4 div.sk-toggleable__content.fitted pre {\n",
              "  /* unfitted */\n",
              "  background-color: var(--sklearn-color-fitted-level-0);\n",
              "}\n",
              "\n",
              "#sk-container-id-4 input.sk-toggleable__control:checked~div.sk-toggleable__content {\n",
              "  /* Expand drop-down */\n",
              "  max-height: 200px;\n",
              "  max-width: 100%;\n",
              "  overflow: auto;\n",
              "}\n",
              "\n",
              "#sk-container-id-4 input.sk-toggleable__control:checked~label.sk-toggleable__label-arrow:before {\n",
              "  content: \"▾\";\n",
              "}\n",
              "\n",
              "/* Pipeline/ColumnTransformer-specific style */\n",
              "\n",
              "#sk-container-id-4 div.sk-label input.sk-toggleable__control:checked~label.sk-toggleable__label {\n",
              "  color: var(--sklearn-color-text);\n",
              "  background-color: var(--sklearn-color-unfitted-level-2);\n",
              "}\n",
              "\n",
              "#sk-container-id-4 div.sk-label.fitted input.sk-toggleable__control:checked~label.sk-toggleable__label {\n",
              "  background-color: var(--sklearn-color-fitted-level-2);\n",
              "}\n",
              "\n",
              "/* Estimator-specific style */\n",
              "\n",
              "/* Colorize estimator box */\n",
              "#sk-container-id-4 div.sk-estimator input.sk-toggleable__control:checked~label.sk-toggleable__label {\n",
              "  /* unfitted */\n",
              "  background-color: var(--sklearn-color-unfitted-level-2);\n",
              "}\n",
              "\n",
              "#sk-container-id-4 div.sk-estimator.fitted input.sk-toggleable__control:checked~label.sk-toggleable__label {\n",
              "  /* fitted */\n",
              "  background-color: var(--sklearn-color-fitted-level-2);\n",
              "}\n",
              "\n",
              "#sk-container-id-4 div.sk-label label.sk-toggleable__label,\n",
              "#sk-container-id-4 div.sk-label label {\n",
              "  /* The background is the default theme color */\n",
              "  color: var(--sklearn-color-text-on-default-background);\n",
              "}\n",
              "\n",
              "/* On hover, darken the color of the background */\n",
              "#sk-container-id-4 div.sk-label:hover label.sk-toggleable__label {\n",
              "  color: var(--sklearn-color-text);\n",
              "  background-color: var(--sklearn-color-unfitted-level-2);\n",
              "}\n",
              "\n",
              "/* Label box, darken color on hover, fitted */\n",
              "#sk-container-id-4 div.sk-label.fitted:hover label.sk-toggleable__label.fitted {\n",
              "  color: var(--sklearn-color-text);\n",
              "  background-color: var(--sklearn-color-fitted-level-2);\n",
              "}\n",
              "\n",
              "/* Estimator label */\n",
              "\n",
              "#sk-container-id-4 div.sk-label label {\n",
              "  font-family: monospace;\n",
              "  font-weight: bold;\n",
              "  display: inline-block;\n",
              "  line-height: 1.2em;\n",
              "}\n",
              "\n",
              "#sk-container-id-4 div.sk-label-container {\n",
              "  text-align: center;\n",
              "}\n",
              "\n",
              "/* Estimator-specific */\n",
              "#sk-container-id-4 div.sk-estimator {\n",
              "  font-family: monospace;\n",
              "  border: 1px dotted var(--sklearn-color-border-box);\n",
              "  border-radius: 0.25em;\n",
              "  box-sizing: border-box;\n",
              "  margin-bottom: 0.5em;\n",
              "  /* unfitted */\n",
              "  background-color: var(--sklearn-color-unfitted-level-0);\n",
              "}\n",
              "\n",
              "#sk-container-id-4 div.sk-estimator.fitted {\n",
              "  /* fitted */\n",
              "  background-color: var(--sklearn-color-fitted-level-0);\n",
              "}\n",
              "\n",
              "/* on hover */\n",
              "#sk-container-id-4 div.sk-estimator:hover {\n",
              "  /* unfitted */\n",
              "  background-color: var(--sklearn-color-unfitted-level-2);\n",
              "}\n",
              "\n",
              "#sk-container-id-4 div.sk-estimator.fitted:hover {\n",
              "  /* fitted */\n",
              "  background-color: var(--sklearn-color-fitted-level-2);\n",
              "}\n",
              "\n",
              "/* Specification for estimator info (e.g. \"i\" and \"?\") */\n",
              "\n",
              "/* Common style for \"i\" and \"?\" */\n",
              "\n",
              ".sk-estimator-doc-link,\n",
              "a:link.sk-estimator-doc-link,\n",
              "a:visited.sk-estimator-doc-link {\n",
              "  float: right;\n",
              "  font-size: smaller;\n",
              "  line-height: 1em;\n",
              "  font-family: monospace;\n",
              "  background-color: var(--sklearn-color-background);\n",
              "  border-radius: 1em;\n",
              "  height: 1em;\n",
              "  width: 1em;\n",
              "  text-decoration: none !important;\n",
              "  margin-left: 0.5em;\n",
              "  text-align: center;\n",
              "  /* unfitted */\n",
              "  border: var(--sklearn-color-unfitted-level-1) 1pt solid;\n",
              "  color: var(--sklearn-color-unfitted-level-1);\n",
              "}\n",
              "\n",
              ".sk-estimator-doc-link.fitted,\n",
              "a:link.sk-estimator-doc-link.fitted,\n",
              "a:visited.sk-estimator-doc-link.fitted {\n",
              "  /* fitted */\n",
              "  border: var(--sklearn-color-fitted-level-1) 1pt solid;\n",
              "  color: var(--sklearn-color-fitted-level-1);\n",
              "}\n",
              "\n",
              "/* On hover */\n",
              "div.sk-estimator:hover .sk-estimator-doc-link:hover,\n",
              ".sk-estimator-doc-link:hover,\n",
              "div.sk-label-container:hover .sk-estimator-doc-link:hover,\n",
              ".sk-estimator-doc-link:hover {\n",
              "  /* unfitted */\n",
              "  background-color: var(--sklearn-color-unfitted-level-3);\n",
              "  color: var(--sklearn-color-background);\n",
              "  text-decoration: none;\n",
              "}\n",
              "\n",
              "div.sk-estimator.fitted:hover .sk-estimator-doc-link.fitted:hover,\n",
              ".sk-estimator-doc-link.fitted:hover,\n",
              "div.sk-label-container:hover .sk-estimator-doc-link.fitted:hover,\n",
              ".sk-estimator-doc-link.fitted:hover {\n",
              "  /* fitted */\n",
              "  background-color: var(--sklearn-color-fitted-level-3);\n",
              "  color: var(--sklearn-color-background);\n",
              "  text-decoration: none;\n",
              "}\n",
              "\n",
              "/* Span, style for the box shown on hovering the info icon */\n",
              ".sk-estimator-doc-link span {\n",
              "  display: none;\n",
              "  z-index: 9999;\n",
              "  position: relative;\n",
              "  font-weight: normal;\n",
              "  right: .2ex;\n",
              "  padding: .5ex;\n",
              "  margin: .5ex;\n",
              "  width: min-content;\n",
              "  min-width: 20ex;\n",
              "  max-width: 50ex;\n",
              "  color: var(--sklearn-color-text);\n",
              "  box-shadow: 2pt 2pt 4pt #999;\n",
              "  /* unfitted */\n",
              "  background: var(--sklearn-color-unfitted-level-0);\n",
              "  border: .5pt solid var(--sklearn-color-unfitted-level-3);\n",
              "}\n",
              "\n",
              ".sk-estimator-doc-link.fitted span {\n",
              "  /* fitted */\n",
              "  background: var(--sklearn-color-fitted-level-0);\n",
              "  border: var(--sklearn-color-fitted-level-3);\n",
              "}\n",
              "\n",
              ".sk-estimator-doc-link:hover span {\n",
              "  display: block;\n",
              "}\n",
              "\n",
              "/* \"?\"-specific style due to the `<a>` HTML tag */\n",
              "\n",
              "#sk-container-id-4 a.estimator_doc_link {\n",
              "  float: right;\n",
              "  font-size: 1rem;\n",
              "  line-height: 1em;\n",
              "  font-family: monospace;\n",
              "  background-color: var(--sklearn-color-background);\n",
              "  border-radius: 1rem;\n",
              "  height: 1rem;\n",
              "  width: 1rem;\n",
              "  text-decoration: none;\n",
              "  /* unfitted */\n",
              "  color: var(--sklearn-color-unfitted-level-1);\n",
              "  border: var(--sklearn-color-unfitted-level-1) 1pt solid;\n",
              "}\n",
              "\n",
              "#sk-container-id-4 a.estimator_doc_link.fitted {\n",
              "  /* fitted */\n",
              "  border: var(--sklearn-color-fitted-level-1) 1pt solid;\n",
              "  color: var(--sklearn-color-fitted-level-1);\n",
              "}\n",
              "\n",
              "/* On hover */\n",
              "#sk-container-id-4 a.estimator_doc_link:hover {\n",
              "  /* unfitted */\n",
              "  background-color: var(--sklearn-color-unfitted-level-3);\n",
              "  color: var(--sklearn-color-background);\n",
              "  text-decoration: none;\n",
              "}\n",
              "\n",
              "#sk-container-id-4 a.estimator_doc_link.fitted:hover {\n",
              "  /* fitted */\n",
              "  background-color: var(--sklearn-color-fitted-level-3);\n",
              "}\n",
              "</style><div id=\"sk-container-id-4\" class=\"sk-top-container\"><div class=\"sk-text-repr-fallback\"><pre>LGBMClassifier(n_estimators=200, num_leaves=63, objective=&#x27;multiclass&#x27;,\n",
              "               random_state=42, scale_pos_weight=3)</pre><b>In a Jupyter environment, please rerun this cell to show the HTML representation or trust the notebook. <br />On GitHub, the HTML representation is unable to render, please try loading this page with nbviewer.org.</b></div><div class=\"sk-container\" hidden><div class=\"sk-item\"><div class=\"sk-estimator fitted sk-toggleable\"><input class=\"sk-toggleable__control sk-hidden--visually\" id=\"sk-estimator-id-4\" type=\"checkbox\" checked><label for=\"sk-estimator-id-4\" class=\"sk-toggleable__label fitted sk-toggleable__label-arrow\"><div><div>LGBMClassifier</div></div><div><span class=\"sk-estimator-doc-link fitted\">i<span>Fitted</span></span></div></label><div class=\"sk-toggleable__content fitted\"><pre>LGBMClassifier(n_estimators=200, num_leaves=63, objective=&#x27;multiclass&#x27;,\n",
              "               random_state=42, scale_pos_weight=3)</pre></div> </div></div></div></div>"
            ],
            "text/plain": [
              "LGBMClassifier(n_estimators=200, num_leaves=63, objective='multiclass',\n",
              "               random_state=42, scale_pos_weight=3)"
            ]
          },
          "execution_count": 299,
          "metadata": {},
          "output_type": "execute_result"
        }
      ],
      "source": [
        "from lightgbm import LGBMClassifier\n",
        "\n",
        "# aplicando o LBBmClassifier\n",
        "lgbm = LGBMClassifier( objective='multiclass',\n",
        "    random_state=42,\n",
        "    n_estimators=300,\n",
        "    learning_rate=0.1,\n",
        "    num_leaves = 63 ,\n",
        "    scale_pos_weight=3,)\n",
        "lgbm.fit(X_train, y_train)\n",
        "\n"
      ]
    },
    {
      "cell_type": "code",
      "execution_count": null,
      "metadata": {
        "colab": {
          "base_uri": "https://localhost:8080/"
        },
        "id": "TkL1QlzgWIk-",
        "outputId": "cec2a97e-45fe-437c-e74e-4aa8e1a8a03a"
      },
      "outputs": [
        {
          "name": "stdout",
          "output_type": "stream",
          "text": [
            "Relatório de Classificação:\n",
            "\n",
            "              precision    recall  f1-score   support\n",
            "\n",
            "      física       0.88      0.81      0.84    115303\n",
            "     nenhuma       0.72      0.81      0.76     17859\n",
            "      outros       0.55      0.76      0.64     21011\n",
            " psicológica       0.31      0.26      0.28     15157\n",
            "\n",
            "    accuracy                           0.76    169330\n",
            "   macro avg       0.61      0.66      0.63    169330\n",
            "weighted avg       0.77      0.76      0.76    169330\n",
            "\n"
          ]
        }
      ],
      "source": [
        "\n",
        "y_pred = lgbm.predict(X_test)\n",
        "\n",
        "print(\"Relatório de Classificação:\\n\")\n",
        "print(classification_report(y_test, y_pred))"
      ]
    },
    {
      "cell_type": "code",
      "execution_count": null,
      "metadata": {
        "colab": {
          "base_uri": "https://localhost:8080/"
        },
        "id": "NpzGI7r61AMv",
        "outputId": "225d50fc-4539-44c0-81cb-4b18b08a075a"
      },
      "outputs": [
        {
          "name": "stderr",
          "output_type": "stream",
          "text": [
            "/usr/local/lib/python3.11/dist-packages/sklearn/utils/deprecation.py:151: FutureWarning: 'force_all_finite' was renamed to 'ensure_all_finite' in 1.6 and will be removed in 1.8.\n",
            "  warnings.warn(\n"
          ]
        },
        {
          "name": "stdout",
          "output_type": "stream",
          "text": [
            "[LightGBM] [Info] Auto-choosing row-wise multi-threading, the overhead of testing was 0.616169 seconds.\n",
            "You can set `force_row_wise=true` to remove the overhead.\n",
            "And if memory is not enough, you can set `force_col_wise=true`.\n",
            "[LightGBM] [Info] Total Bins 878\n",
            "[LightGBM] [Info] Number of data points in the train set: 1245482, number of used features: 59\n",
            "[LightGBM] [Info] Start training from score -1.175748\n",
            "[LightGBM] [Info] Start training from score -1.468155\n",
            "[LightGBM] [Info] Start training from score -1.457228\n",
            "[LightGBM] [Info] Start training from score -1.477617\n"
          ]
        }
      ],
      "source": [
        "import numpy as np\n",
        "\n",
        "model_lgb = lgb.LGBMClassifier(\n",
        "    objective='multiclass',\n",
        "    random_state=42,\n",
        "    n_estimators=300,\n",
        "    learning_rate=0.1,\n",
        "    num_leaves = 63 ,\n",
        "    scale_pos_weight=3,  # dizendo que a classe 3 e mais importante\n",
        "\n",
        ")\n",
        "\n",
        "# juntatodos os dados pro treinamento final\n",
        "X_violencia = np.concatenate((X__resampled, X_test), axis=0)\n",
        "y_violencia = np.concatenate((y_resampled, y_test), axis=0)\n",
        "\n",
        "model_lgb.fit(X_violencia, y_violencia)\n",
        "\n",
        "import pickle\n",
        "\n",
        "pickle.dump(model_lgb, open('model_lgb.sav', 'wb')) # salva o modelo treinado\n"
      ]
    },
    {
      "cell_type": "markdown",
      "metadata": {
        "id": "I-LNY70wv7P5"
      },
      "source": [
        "# Conclusão do projeto"
      ]
    },
    {
      "cell_type": "markdown",
      "metadata": {
        "id": "yafMIEJCDXv9"
      },
      "source": [
        "Este projeto teve como objetivo aplicar técnicas de aprendizado de máquina para classificar os tipos de violência sofridos por mulheres, com foco principal nas categorias física e psicológica, utilizando dados do sistema de notificações do SINAN."
      ]
    },
    {
      "cell_type": "markdown",
      "metadata": {
        "id": "uLhvxMu-DZIm"
      },
      "source": [
        "Durante o processo foram feitas as seguinte etapas:\n",
        "\n",
        "# 1. Pré-processamento e Preparação dos Dados\n",
        "\n",
        "Nessa etapa realizamos o tratamento da base de dados, composta por mais de 1 milhão de colunas. Após uma análise exploratória, identificamos que muitos dos campos eram irrelevantes para o objetivo do projeto. Por isso:\n",
        "\n",
        "\n",
        "* Selecionamos as variáveis mais relevantes para o nosso objetivo;\n",
        "\n",
        "* Aplicamos a transformação de variáveis categóricas, como raça, escolaridade, local de ocorrência e relação com o agressor, convertendo-as para o tipo category com o objetivo de otimizar o uso de memória;\n",
        "\n",
        "* Preenchemos valores nulos usando moda para colunas categóricas e mediana para colunas numéricas, de forma a manter a integridade dos dados;\n",
        "\n",
        "* Criamos novas colunas como TIPO_VIOLENCIA (física, psicológica, outros) e TIPO_RELACAO, agrupando variáveis relacionadas para facilitar a análise e o treinamento dos modelos.\n",
        "\n",
        "# 2. Tratamento de Desbalanceamento\n",
        "\n",
        "Ao longo da análise,descobrimos um forte desbalanceamento entre as classes, com predominância de casos de violência física e sub-representação dos casos psicológicos. Para atenuar o problema, utilizamos o:\n",
        "\n",
        "* SMOTE (Synthetic Minority Over-sampling Technique): técnica de oversampling que gera exemplos sintéticos para equilibrar a base;\n",
        "\n",
        "A aplicação dessas técnicas teve como objetivo proporcionar uma representação mais justa das classes minoritárias, buscando melhorar a performance do modelo em categorias subnotificadas, como a violência psicológica.\n",
        "\n",
        "# 3. Treinamento e Avaliação dos Modelos\n",
        "Testamos diferentes algoritmos de aprendizado de máquina:\n",
        "\n",
        "* Random Forest: teve excelente desempenho na identificação de casos de violência física, mas performance quase nula na classe psicológica;\n",
        "\n",
        "* XGBoost (MaxGBoster) e LightGBM: ofereceram melhorias em termos de precisão e recall para a classe psicológica, embora ainda longe do ideal;\n",
        "\n",
        "* Redes neurais chegaram a ser testadas, mas foram descartadas devido ao alto tempo de execução e baixo desempenho no contexto atual.\n",
        "\n",
        "Utilizamos métricas como accuracy, precision, recall e f1-score, além da matriz de confusão, para avaliar a performance de cada modelo. O GridSearchCV foi usado para encontrar a melhor combinação de hiperparâmetros.\n",
        "\n",
        "# 4. Análise dos Resultados\n",
        "Apesar de melhorias com os modelos mais robustos e técnicas de balanceamento, a classe psicológica continuou apresentando baixo desempenho. Esse fato nos leva a algumas conclusões:\n",
        "\n",
        "* Os dados disponíveis podem não conter informações suficientes ou claras para identificar padrões de violência psicológica;\n",
        "\n",
        "* Esse tipo de violência pode demandar outras variáveis (como histórico clínico, linguagem usada no boletim, etc.), que não estão presentes na base.\n",
        "\n",
        "# 5. Considerações Finais\n",
        "\n",
        "Apesar dos grandes problemas enfrentados, conseguimos criar um modelo robusto e com desempenho equilibrado. No entanto, os desafios encontrados evidenciam a necessidade de:\n",
        "\n",
        "* Bases mais completas e equilibradas;\n",
        "\n",
        "* Melhor qualidade dos dados;\n",
        "\n",
        "* Inclusão de dados complementares (como históricos psicológicos, registros de reincidência, etc.).\n",
        "\n",
        "\n"
      ]
    }
  ],
  "metadata": {
    "colab": {
      "collapsed_sections": [
        "1NILBHtkDzjC",
        "QDCdZBOfm60W",
        "FUtIG-kv8VZa",
        "s94i4RHhXEoQ"
      ],
      "provenance": []
    },
    "kernelspec": {
      "display_name": "Python 3",
      "name": "python3"
    },
    "language_info": {
      "name": "python"
    }
  },
  "nbformat": 4,
  "nbformat_minor": 0
}